{
  "metadata": {
    "kernelspec": {
      "name": "python",
      "display_name": "Python (Pyodide)",
      "language": "python"
    },
    "language_info": {
      "codemirror_mode": {
        "name": "python",
        "version": 3
      },
      "file_extension": ".py",
      "mimetype": "text/x-python",
      "name": "python",
      "nbconvert_exporter": "python",
      "pygments_lexer": "ipython3",
      "version": "3.8"
    },
    "ExecuteTimeLog": [
      {
        "duration": 828,
        "start_time": "2021-11-16T09:21:11.304Z"
      },
      {
        "duration": 893,
        "start_time": "2021-11-16T09:21:17.728Z"
      },
      {
        "duration": 1150,
        "start_time": "2021-11-16T09:21:29.568Z"
      },
      {
        "duration": 3,
        "start_time": "2021-11-16T09:24:14.495Z"
      },
      {
        "duration": 120,
        "start_time": "2021-11-16T09:24:46.630Z"
      },
      {
        "duration": 3,
        "start_time": "2021-11-16T09:28:27.882Z"
      },
      {
        "duration": 4,
        "start_time": "2021-11-16T09:29:54.281Z"
      },
      {
        "duration": 3,
        "start_time": "2021-11-16T09:30:45.936Z"
      },
      {
        "duration": 4,
        "start_time": "2021-11-16T09:31:06.300Z"
      },
      {
        "duration": 113,
        "start_time": "2021-11-16T09:31:37.208Z"
      },
      {
        "duration": 143,
        "start_time": "2021-11-16T09:31:48.656Z"
      },
      {
        "duration": 98,
        "start_time": "2021-11-16T09:31:55.678Z"
      },
      {
        "duration": 3,
        "start_time": "2021-11-16T09:32:08.535Z"
      },
      {
        "duration": 111,
        "start_time": "2021-11-16T09:32:10.120Z"
      },
      {
        "duration": 3,
        "start_time": "2021-11-16T09:32:15.732Z"
      },
      {
        "duration": 4,
        "start_time": "2021-11-16T09:32:29.423Z"
      },
      {
        "duration": 3,
        "start_time": "2021-11-16T10:03:03.074Z"
      },
      {
        "duration": 3,
        "start_time": "2021-11-16T10:10:01.288Z"
      },
      {
        "duration": 3,
        "start_time": "2021-11-16T10:10:46.923Z"
      },
      {
        "duration": 121,
        "start_time": "2021-11-16T10:37:46.494Z"
      },
      {
        "duration": 125,
        "start_time": "2021-11-16T10:38:20.632Z"
      },
      {
        "duration": 112,
        "start_time": "2021-11-16T10:46:53.001Z"
      },
      {
        "duration": 110,
        "start_time": "2021-11-16T10:48:25.775Z"
      },
      {
        "duration": 3,
        "start_time": "2021-11-16T10:50:18.720Z"
      },
      {
        "duration": 4,
        "start_time": "2021-11-16T10:50:37.649Z"
      },
      {
        "duration": 2,
        "start_time": "2021-11-16T10:50:51.884Z"
      },
      {
        "duration": 3,
        "start_time": "2021-11-16T10:51:56.237Z"
      },
      {
        "duration": 101,
        "start_time": "2021-11-16T10:53:13.791Z"
      },
      {
        "duration": 3,
        "start_time": "2021-11-16T10:55:59.186Z"
      },
      {
        "duration": 3,
        "start_time": "2021-11-16T10:56:10.751Z"
      },
      {
        "duration": 3,
        "start_time": "2021-11-16T10:56:49.038Z"
      },
      {
        "duration": 3,
        "start_time": "2021-11-16T10:56:49.174Z"
      },
      {
        "duration": 4,
        "start_time": "2021-11-16T10:56:49.414Z"
      },
      {
        "duration": 3,
        "start_time": "2021-11-16T10:56:49.680Z"
      },
      {
        "duration": 3,
        "start_time": "2021-11-16T10:56:50.370Z"
      },
      {
        "duration": 114,
        "start_time": "2021-11-16T10:59:34.518Z"
      },
      {
        "duration": 3,
        "start_time": "2021-11-16T11:01:41.201Z"
      },
      {
        "duration": 116,
        "start_time": "2021-11-16T11:01:48.754Z"
      },
      {
        "duration": 3,
        "start_time": "2021-11-16T11:02:16.685Z"
      },
      {
        "duration": 3,
        "start_time": "2021-11-16T11:02:19.479Z"
      },
      {
        "duration": 3,
        "start_time": "2021-11-16T11:02:47.067Z"
      },
      {
        "duration": 3,
        "start_time": "2021-11-16T11:02:49.353Z"
      },
      {
        "duration": 3,
        "start_time": "2021-11-16T11:03:07.835Z"
      },
      {
        "duration": 3,
        "start_time": "2021-11-16T11:03:07.953Z"
      },
      {
        "duration": 112,
        "start_time": "2021-11-16T11:07:52.072Z"
      },
      {
        "duration": 187,
        "start_time": "2021-11-16T11:09:23.468Z"
      },
      {
        "duration": 4,
        "start_time": "2021-11-16T11:10:01.455Z"
      },
      {
        "duration": 3,
        "start_time": "2021-11-16T11:10:05.069Z"
      },
      {
        "duration": 4,
        "start_time": "2021-11-16T11:10:13.376Z"
      },
      {
        "duration": 3,
        "start_time": "2021-11-16T11:10:14.434Z"
      },
      {
        "duration": 3,
        "start_time": "2021-11-16T11:10:22.853Z"
      },
      {
        "duration": 4,
        "start_time": "2021-11-16T11:27:29.279Z"
      },
      {
        "duration": 4,
        "start_time": "2021-11-16T11:29:08.919Z"
      },
      {
        "duration": 118,
        "start_time": "2021-11-16T11:29:46.703Z"
      },
      {
        "duration": 437,
        "start_time": "2021-11-16T11:36:02.181Z"
      },
      {
        "duration": 157,
        "start_time": "2021-11-16T11:36:14.388Z"
      },
      {
        "duration": 207,
        "start_time": "2021-11-16T11:47:15.898Z"
      },
      {
        "duration": 3,
        "start_time": "2021-11-16T11:53:52.092Z"
      },
      {
        "duration": 3,
        "start_time": "2021-11-16T11:53:52.236Z"
      },
      {
        "duration": 3,
        "start_time": "2021-11-16T11:59:12.005Z"
      },
      {
        "duration": 112,
        "start_time": "2021-11-16T12:00:33.446Z"
      },
      {
        "duration": 3,
        "start_time": "2021-11-16T12:02:14.453Z"
      },
      {
        "duration": 3,
        "start_time": "2021-11-16T12:02:39.512Z"
      },
      {
        "duration": 106,
        "start_time": "2021-11-16T12:03:03.460Z"
      },
      {
        "duration": 3,
        "start_time": "2021-11-17T20:37:21.139Z"
      },
      {
        "duration": 3,
        "start_time": "2021-11-17T20:37:22.229Z"
      },
      {
        "duration": 3,
        "start_time": "2021-11-17T20:38:38.806Z"
      },
      {
        "duration": 3,
        "start_time": "2021-11-17T20:38:41.958Z"
      },
      {
        "duration": 3,
        "start_time": "2021-11-17T20:43:46.551Z"
      },
      {
        "duration": 4,
        "start_time": "2021-11-17T20:58:21.835Z"
      },
      {
        "duration": 3,
        "start_time": "2021-11-17T20:59:21.872Z"
      },
      {
        "duration": 4,
        "start_time": "2021-11-17T20:59:45.352Z"
      },
      {
        "duration": 4,
        "start_time": "2021-11-17T20:59:49.646Z"
      },
      {
        "duration": 159,
        "start_time": "2021-11-17T21:02:26.949Z"
      },
      {
        "duration": 3,
        "start_time": "2021-11-17T21:03:53.461Z"
      },
      {
        "duration": 3,
        "start_time": "2021-11-17T21:03:53.694Z"
      },
      {
        "duration": 3,
        "start_time": "2021-11-17T21:05:28.145Z"
      },
      {
        "duration": 116,
        "start_time": "2021-11-17T21:05:57.787Z"
      },
      {
        "duration": 3,
        "start_time": "2021-11-17T21:06:37.993Z"
      },
      {
        "duration": 3,
        "start_time": "2021-11-17T21:06:38.261Z"
      },
      {
        "duration": 3,
        "start_time": "2021-11-17T21:11:54.358Z"
      },
      {
        "duration": 3,
        "start_time": "2021-11-17T21:12:43.846Z"
      },
      {
        "duration": 4,
        "start_time": "2021-11-17T21:13:08.773Z"
      },
      {
        "duration": 3,
        "start_time": "2021-11-17T21:14:44.441Z"
      },
      {
        "duration": 3,
        "start_time": "2021-11-17T21:15:42.059Z"
      },
      {
        "duration": 4,
        "start_time": "2021-11-17T21:15:51.995Z"
      },
      {
        "duration": 3,
        "start_time": "2021-11-17T21:15:53.923Z"
      },
      {
        "duration": 3,
        "start_time": "2021-11-17T21:15:55.282Z"
      },
      {
        "duration": 3,
        "start_time": "2021-11-17T21:16:28.492Z"
      },
      {
        "duration": 3,
        "start_time": "2021-11-17T21:16:32.603Z"
      },
      {
        "duration": 3,
        "start_time": "2021-11-17T21:17:06.941Z"
      },
      {
        "duration": 98,
        "start_time": "2021-11-17T21:18:05.733Z"
      },
      {
        "duration": 4,
        "start_time": "2021-11-17T21:21:35.255Z"
      },
      {
        "duration": 3,
        "start_time": "2021-11-17T21:21:37.804Z"
      },
      {
        "duration": 4,
        "start_time": "2021-11-17T21:23:06.071Z"
      },
      {
        "duration": 3,
        "start_time": "2021-11-17T21:23:24.799Z"
      },
      {
        "duration": 3,
        "start_time": "2021-11-17T21:23:32.591Z"
      },
      {
        "duration": 98,
        "start_time": "2021-11-17T21:28:31.559Z"
      },
      {
        "duration": 3,
        "start_time": "2021-11-17T21:28:45.448Z"
      },
      {
        "duration": 3,
        "start_time": "2021-11-17T21:29:17.303Z"
      },
      {
        "duration": 3,
        "start_time": "2021-11-17T21:29:29.617Z"
      },
      {
        "duration": 3,
        "start_time": "2021-11-17T21:29:32.681Z"
      },
      {
        "duration": 3,
        "start_time": "2021-11-17T21:36:11.474Z"
      },
      {
        "duration": 3,
        "start_time": "2021-11-17T21:36:14.791Z"
      },
      {
        "duration": 3,
        "start_time": "2021-11-17T21:36:53.943Z"
      },
      {
        "duration": 3,
        "start_time": "2021-11-17T21:36:56.165Z"
      },
      {
        "duration": 4,
        "start_time": "2021-11-17T21:37:16.590Z"
      },
      {
        "duration": 3,
        "start_time": "2021-11-17T21:37:22.702Z"
      },
      {
        "duration": 4,
        "start_time": "2021-11-17T21:38:03.479Z"
      },
      {
        "duration": 3,
        "start_time": "2021-11-17T21:38:08.601Z"
      },
      {
        "duration": 3,
        "start_time": "2021-11-17T21:38:12.928Z"
      },
      {
        "duration": 3,
        "start_time": "2021-11-17T21:38:48.896Z"
      },
      {
        "duration": 2,
        "start_time": "2021-11-17T21:38:49.171Z"
      },
      {
        "duration": 4,
        "start_time": "2021-11-17T21:39:57.889Z"
      },
      {
        "duration": 3,
        "start_time": "2021-11-17T21:39:58.057Z"
      },
      {
        "duration": 3,
        "start_time": "2021-11-17T21:41:20.108Z"
      },
      {
        "duration": 3,
        "start_time": "2021-11-17T21:41:20.629Z"
      },
      {
        "duration": 3,
        "start_time": "2021-11-17T21:42:49.136Z"
      },
      {
        "duration": 3,
        "start_time": "2021-11-17T21:43:15.137Z"
      },
      {
        "duration": 4,
        "start_time": "2021-11-17T21:43:16.766Z"
      },
      {
        "duration": 4,
        "start_time": "2021-11-17T21:43:31.711Z"
      },
      {
        "duration": 3,
        "start_time": "2021-11-17T21:43:36.312Z"
      },
      {
        "duration": 4,
        "start_time": "2021-11-17T21:45:08.825Z"
      },
      {
        "duration": 4,
        "start_time": "2021-11-17T21:45:10.119Z"
      },
      {
        "duration": 4,
        "start_time": "2021-11-17T21:45:13.748Z"
      },
      {
        "duration": 3,
        "start_time": "2021-11-17T21:45:22.219Z"
      },
      {
        "duration": 3,
        "start_time": "2021-11-17T21:45:33.412Z"
      },
      {
        "duration": 2,
        "start_time": "2021-11-17T21:46:01.885Z"
      },
      {
        "duration": 3,
        "start_time": "2021-11-17T21:46:03.628Z"
      },
      {
        "duration": 107,
        "start_time": "2021-11-17T21:47:32.512Z"
      },
      {
        "duration": 103,
        "start_time": "2021-11-17T21:50:36.243Z"
      },
      {
        "duration": 3,
        "start_time": "2021-11-18T06:28:31.440Z"
      },
      {
        "duration": 3,
        "start_time": "2021-11-18T06:29:00.168Z"
      },
      {
        "duration": 3,
        "start_time": "2021-11-18T06:31:27.008Z"
      },
      {
        "duration": 2,
        "start_time": "2021-11-18T06:35:34.288Z"
      },
      {
        "duration": 2,
        "start_time": "2021-11-18T06:38:04.527Z"
      }
    ],
    "toc": {
      "base_numbering": 1,
      "nav_menu": {},
      "number_sections": true,
      "sideBar": true,
      "skip_h1_title": false,
      "title_cell": "Table of Contents",
      "title_sidebar": "Contents",
      "toc_cell": false,
      "toc_position": {
        "height": "calc(100% - 180px)",
        "left": "10px",
        "top": "150px",
        "width": "245.817px"
      },
      "toc_section_display": true,
      "toc_window_display": true
    }
  },
  "nbformat_minor": 4,
  "nbformat": 4,
  "cells": [
    {
      "cell_type": "markdown",
      "source": "# Prepaid phone analysis project in Megaline",
      "metadata": {}
    },
    {
      "cell_type": "markdown",
      "source": "# Content <a id='back'></a>\n\n* [Introduction](#intro)\n* [1. Initialisation](#ini)\n* [2. Upload Data](#uploaddata)\n* [3. Exploratory Data Analysis](#eda)\n  * [3.1 Conclusion and Following Steps](#stat)\n* [4. Data Preprocesing](#preprocesing)\n  * [4.1 Fixing Plan Dataset](#fix1)\n  * [4.2 Enhancing Plan Dataset](#en1)\n  * [4.3 Fixing Users Dataset](#fix2)\n  * [4.4 Enhancing Users Dataset](#en2)\n  * [4.5 Fixing dsa Dataset](#fix3)\n  * [4.6 Enhancing Users Dataset](#en3)\n  * [4.7 Fixing dsa Dataset](#fix4)\n  * [4.8 Enhancing Usads Dataset](#en4)\n  * [4.9 Fixing dsa Dataset](#fix5)\n  * [4.10 Enhancing Us Dataset](#en5)\n* [5. Unifying in one Single Dataset](#uni)\n* [6. Studying users behaviour](#behaviour)\n* [7. Testing statistical hypotheses](#hypotheses)\n* [Final Conclusions](#end)",
      "metadata": {}
    },
    {
      "cell_type": "markdown",
      "source": "## Introduction <a id='intro'></a>",
      "metadata": {}
    },
    {
      "cell_type": "markdown",
      "source": "# ¿Which is the Best Phone Plan?\n\nWorking as an analyst for the telecommunications operator Megaline, this project focuses on two prepaid plans offered to customers: Surf and Ultimate. The commercial department aims to identify which of these plans generates more revenue in order to adjust the advertising budget accordingly. \n\nA preliminary analysis of these plans will be carried out based on a relatively small sample of 500 Megaline customers. The dataset includes information on who the customers are, their locations, the plan they use, and the number of calls made and text messages sent in 2018. The goal is to analyze customer behavior and determine which prepaid plan yields the highest revenue.",
      "metadata": {}
    },
    {
      "cell_type": "markdown",
      "source": "**PURPOSE:**\n\nThe purpose of this project is to analyze customer data from the telecommunications operator Megaline, which offers two prepaid plans: Surf and Ultimate. The dataset includes information on calls, messages, and internet traffic volume used throughout the months of 2018, allowing for an examination of monthly rates by plan and city, among other factors, to determine which plan generates more revenue for the company.\n\nThe analysis will involve reviewing the variables present in these datasets and performing data preprocessing to ensure the data is as complete as possible without significantly altering its values. Following this, graphical methods such as histograms, boxplots, and other visualizations will be employed to deepen the analysis, and statistical hypothesis testing will be conducted to confirm the findings.",
      "metadata": {}
    },
    {
      "cell_type": "markdown",
      "source": "## 1. Initialisation <a id='ini'></a>",
      "metadata": {}
    },
    {
      "cell_type": "code",
      "source": "# Loading the libraries\nfrom scipy import stats as st\nimport matplotlib.pyplot as plt\nimport numpy as np\nimport pandas as pd",
      "metadata": {
        "trusted": true
      },
      "outputs": [
        {
          "name": "stderr",
          "output_type": "stream",
          "text": "Matplotlib is building the font cache; this may take a moment.\n"
        }
      ],
      "execution_count": 1
    },
    {
      "cell_type": "markdown",
      "source": "## 2. Upload Data <a id='uploaddata'></a>",
      "metadata": {}
    },
    {
      "cell_type": "code",
      "source": "# Uploading all the datasets \ntry: \n    calls = pd.read_csv('megaline_calls.csv')\n    internet = pd.read_csv('megaline_internet.csv')\n    messages = pd.read_csv('megaline_messages.csv')\n    plans = pd.read_csv('megaline_plans.csv')\n    users = pd.read_csv('megaline_users.csv')\nexcept:\n    calls = pd.read_csv('/datasets/megaline_calls.csv')\n    internet = pd.read_csv('/datasets/megaline_internet.csv')\n    messages = pd.read_csv('/datasets/megaline_messages.csv')\n    plans = pd.read_csv('/datasets/megaline_plans.csv')\n    users = pd.read_csv('/datasets/megaline_users.csv')",
      "metadata": {
        "trusted": true
      },
      "outputs": [],
      "execution_count": 2
    },
    {
      "cell_type": "markdown",
      "source": "## 3. Exploratory Data Analysis (EDA) <a id='eda'><a>",
      "metadata": {}
    },
    {
      "cell_type": "markdown",
      "source": "## Preparing the Datasets",
      "metadata": {}
    },
    {
      "cell_type": "markdown",
      "source": "Next, we will proceed to load the various tables provided with user information, calls, messages, internet, and plans to review them. Subsequently, we will correct and enrich the data if necessary.",
      "metadata": {}
    },
    {
      "cell_type": "markdown",
      "source": "### Plans Dataset",
      "metadata": {}
    },
    {
      "cell_type": "markdown",
      "source": "The dataset 'plans\" contains the following fields: \n\n- `plan_name`: name of the plan.\n\n- `usd_monthly_fee`: monthly fee in US dollars.\n\n- `minutes_included`: minutes included per month.\n\n- `messages_included`: SMS included per month.\n\n- `mb_per_month_included`: data included per month (in megabytes).\n\n- `usd_per_minute`: price per minute after exceeding the package limits (for example, if the package includes 100 minutes, the operator will charge for the 101st minute).\n\n- `usd_per_message`: price per SMS after exceeding the package limits.\n\n- `usd_per_gb`: price per gigabyte of additional data after exceeding the package limits (1 GB = 1024 megabytes).",
      "metadata": {}
    },
    {
      "cell_type": "code",
      "source": "plans # Loading the dataset \"plans\"",
      "metadata": {
        "trusted": true
      },
      "outputs": [
        {
          "execution_count": 5,
          "output_type": "execute_result",
          "data": {
            "text/plain": "   messages_included  mb_per_month_included  minutes_included  \\\n0                 50                  15360               500   \n1               1000                  30720              3000   \n\n   usd_monthly_pay  usd_per_gb  usd_per_message  usd_per_minute plan_name  \n0               20          10             0.03            0.03      surf  \n1               70           7             0.01            0.01  ultimate  ",
            "text/html": "<div>\n<style scoped>\n    .dataframe tbody tr th:only-of-type {\n        vertical-align: middle;\n    }\n\n    .dataframe tbody tr th {\n        vertical-align: top;\n    }\n\n    .dataframe thead th {\n        text-align: right;\n    }\n</style>\n<table border=\"1\" class=\"dataframe\">\n  <thead>\n    <tr style=\"text-align: right;\">\n      <th></th>\n      <th>messages_included</th>\n      <th>mb_per_month_included</th>\n      <th>minutes_included</th>\n      <th>usd_monthly_pay</th>\n      <th>usd_per_gb</th>\n      <th>usd_per_message</th>\n      <th>usd_per_minute</th>\n      <th>plan_name</th>\n    </tr>\n  </thead>\n  <tbody>\n    <tr>\n      <th>0</th>\n      <td>50</td>\n      <td>15360</td>\n      <td>500</td>\n      <td>20</td>\n      <td>10</td>\n      <td>0.03</td>\n      <td>0.03</td>\n      <td>surf</td>\n    </tr>\n    <tr>\n      <th>1</th>\n      <td>1000</td>\n      <td>30720</td>\n      <td>3000</td>\n      <td>70</td>\n      <td>7</td>\n      <td>0.01</td>\n      <td>0.01</td>\n      <td>ultimate</td>\n    </tr>\n  </tbody>\n</table>\n</div>"
          },
          "metadata": {}
        }
      ],
      "execution_count": 5
    },
    {
      "cell_type": "markdown",
      "source": "### Users Dataset",
      "metadata": {}
    },
    {
      "cell_type": "markdown",
      "source": "The dataset \"users\" contains the following fields:\n\n- `user_id`: unique user identifier.\n\n- `first_name`: user’s first name.\n\n- `last_name`: user’s last name.\n\n- `age`: user’s age (in years).\n\n- `reg_date`: subscription date (dd, mm, yy).\n\n- `churn_date`: the date when the user stopped using the service (if the value is missing, the plan was active when the database was extracted).\n\n- `city`: user’s city of residence.\n\n- `plan`: name of the plan.\n",
      "metadata": {}
    },
    {
      "cell_type": "code",
      "source": "users # Loading the data file into \"user\" DataFrame",
      "metadata": {
        "trusted": true,
        "scrolled": true
      },
      "outputs": [
        {
          "execution_count": 12,
          "output_type": "execute_result",
          "data": {
            "text/plain": "     user_id first_name   last_name  age  \\\n0       1000   Anamaria       Bauer   45   \n1       1001     Mickey   Wilkerson   28   \n2       1002     Carlee     Hoffman   36   \n3       1003   Reynaldo     Jenkins   52   \n4       1004    Leonila    Thompson   40   \n..       ...        ...         ...  ...   \n495     1495      Fidel      Sharpe   67   \n496     1496      Ariel    Shepherd   49   \n497     1497      Donte     Barrera   49   \n498     1498       Scot  Williamson   51   \n499     1499      Shena     Dickson   37   \n\n                                          city    reg_date      plan  \\\n0        Atlanta-Sandy Springs-Roswell, GA MSA  2018-12-24  ultimate   \n1              Seattle-Tacoma-Bellevue, WA MSA  2018-08-13      surf   \n2         Las Vegas-Henderson-Paradise, NV MSA  2018-10-21      surf   \n3                                Tulsa, OK MSA  2018-01-28      surf   \n4              Seattle-Tacoma-Bellevue, WA MSA  2018-05-23      surf   \n..                                         ...         ...       ...   \n495  New York-Newark-Jersey City, NY-NJ-PA MSA  2018-09-04      surf   \n496               New Orleans-Metairie, LA MSA  2018-02-20      surf   \n497     Los Angeles-Long Beach-Anaheim, CA MSA  2018-12-10  ultimate   \n498  New York-Newark-Jersey City, NY-NJ-PA MSA  2018-02-04      surf   \n499          Orlando-Kissimmee-Sanford, FL MSA  2018-05-06      surf   \n\n    churn_date  \n0          NaN  \n1          NaN  \n2          NaN  \n3          NaN  \n4          NaN  \n..         ...  \n495        NaN  \n496        NaN  \n497        NaN  \n498        NaN  \n499        NaN  \n\n[500 rows x 8 columns]",
            "text/html": "<div>\n<style scoped>\n    .dataframe tbody tr th:only-of-type {\n        vertical-align: middle;\n    }\n\n    .dataframe tbody tr th {\n        vertical-align: top;\n    }\n\n    .dataframe thead th {\n        text-align: right;\n    }\n</style>\n<table border=\"1\" class=\"dataframe\">\n  <thead>\n    <tr style=\"text-align: right;\">\n      <th></th>\n      <th>user_id</th>\n      <th>first_name</th>\n      <th>last_name</th>\n      <th>age</th>\n      <th>city</th>\n      <th>reg_date</th>\n      <th>plan</th>\n      <th>churn_date</th>\n    </tr>\n  </thead>\n  <tbody>\n    <tr>\n      <th>0</th>\n      <td>1000</td>\n      <td>Anamaria</td>\n      <td>Bauer</td>\n      <td>45</td>\n      <td>Atlanta-Sandy Springs-Roswell, GA MSA</td>\n      <td>2018-12-24</td>\n      <td>ultimate</td>\n      <td>NaN</td>\n    </tr>\n    <tr>\n      <th>1</th>\n      <td>1001</td>\n      <td>Mickey</td>\n      <td>Wilkerson</td>\n      <td>28</td>\n      <td>Seattle-Tacoma-Bellevue, WA MSA</td>\n      <td>2018-08-13</td>\n      <td>surf</td>\n      <td>NaN</td>\n    </tr>\n    <tr>\n      <th>2</th>\n      <td>1002</td>\n      <td>Carlee</td>\n      <td>Hoffman</td>\n      <td>36</td>\n      <td>Las Vegas-Henderson-Paradise, NV MSA</td>\n      <td>2018-10-21</td>\n      <td>surf</td>\n      <td>NaN</td>\n    </tr>\n    <tr>\n      <th>3</th>\n      <td>1003</td>\n      <td>Reynaldo</td>\n      <td>Jenkins</td>\n      <td>52</td>\n      <td>Tulsa, OK MSA</td>\n      <td>2018-01-28</td>\n      <td>surf</td>\n      <td>NaN</td>\n    </tr>\n    <tr>\n      <th>4</th>\n      <td>1004</td>\n      <td>Leonila</td>\n      <td>Thompson</td>\n      <td>40</td>\n      <td>Seattle-Tacoma-Bellevue, WA MSA</td>\n      <td>2018-05-23</td>\n      <td>surf</td>\n      <td>NaN</td>\n    </tr>\n    <tr>\n      <th>...</th>\n      <td>...</td>\n      <td>...</td>\n      <td>...</td>\n      <td>...</td>\n      <td>...</td>\n      <td>...</td>\n      <td>...</td>\n      <td>...</td>\n    </tr>\n    <tr>\n      <th>495</th>\n      <td>1495</td>\n      <td>Fidel</td>\n      <td>Sharpe</td>\n      <td>67</td>\n      <td>New York-Newark-Jersey City, NY-NJ-PA MSA</td>\n      <td>2018-09-04</td>\n      <td>surf</td>\n      <td>NaN</td>\n    </tr>\n    <tr>\n      <th>496</th>\n      <td>1496</td>\n      <td>Ariel</td>\n      <td>Shepherd</td>\n      <td>49</td>\n      <td>New Orleans-Metairie, LA MSA</td>\n      <td>2018-02-20</td>\n      <td>surf</td>\n      <td>NaN</td>\n    </tr>\n    <tr>\n      <th>497</th>\n      <td>1497</td>\n      <td>Donte</td>\n      <td>Barrera</td>\n      <td>49</td>\n      <td>Los Angeles-Long Beach-Anaheim, CA MSA</td>\n      <td>2018-12-10</td>\n      <td>ultimate</td>\n      <td>NaN</td>\n    </tr>\n    <tr>\n      <th>498</th>\n      <td>1498</td>\n      <td>Scot</td>\n      <td>Williamson</td>\n      <td>51</td>\n      <td>New York-Newark-Jersey City, NY-NJ-PA MSA</td>\n      <td>2018-02-04</td>\n      <td>surf</td>\n      <td>NaN</td>\n    </tr>\n    <tr>\n      <th>499</th>\n      <td>1499</td>\n      <td>Shena</td>\n      <td>Dickson</td>\n      <td>37</td>\n      <td>Orlando-Kissimmee-Sanford, FL MSA</td>\n      <td>2018-05-06</td>\n      <td>surf</td>\n      <td>NaN</td>\n    </tr>\n  </tbody>\n</table>\n<p>500 rows × 8 columns</p>\n</div>"
          },
          "metadata": {}
        }
      ],
      "execution_count": 12
    },
    {
      "cell_type": "markdown",
      "source": "### Calls Dataset",
      "metadata": {}
    },
    {
      "cell_type": "markdown",
      "source": "The dataset \"calls\" contains the following fields:\n\n- `id`: unique identifier of the call.\n\n- `call_date`: date of the call.\n\n- `duration`: duration of the call (in minutes).\n\n- `user_id`: identifier of the user making the call.",
      "metadata": {}
    },
    {
      "cell_type": "code",
      "source": "calls # Loading the data file into \"calls\" DataFrame",
      "metadata": {
        "trusted": true,
        "scrolled": true
      },
      "outputs": [
        {
          "execution_count": 11,
          "output_type": "execute_result",
          "data": {
            "text/plain": "              id  user_id   call_date  duration\n0        1000_93     1000  2018-12-27      8.52\n1       1000_145     1000  2018-12-27     13.66\n2       1000_247     1000  2018-12-27     14.48\n3       1000_309     1000  2018-12-28      5.76\n4       1000_380     1000  2018-12-30      4.22\n...          ...      ...         ...       ...\n137730  1499_199     1499  2018-11-21      8.72\n137731  1499_200     1499  2018-10-20     10.89\n137732  1499_201     1499  2018-09-21      8.12\n137733  1499_202     1499  2018-10-10      0.37\n137734  1499_203     1499  2018-12-29     13.86\n\n[137735 rows x 4 columns]",
            "text/html": "<div>\n<style scoped>\n    .dataframe tbody tr th:only-of-type {\n        vertical-align: middle;\n    }\n\n    .dataframe tbody tr th {\n        vertical-align: top;\n    }\n\n    .dataframe thead th {\n        text-align: right;\n    }\n</style>\n<table border=\"1\" class=\"dataframe\">\n  <thead>\n    <tr style=\"text-align: right;\">\n      <th></th>\n      <th>id</th>\n      <th>user_id</th>\n      <th>call_date</th>\n      <th>duration</th>\n    </tr>\n  </thead>\n  <tbody>\n    <tr>\n      <th>0</th>\n      <td>1000_93</td>\n      <td>1000</td>\n      <td>2018-12-27</td>\n      <td>8.52</td>\n    </tr>\n    <tr>\n      <th>1</th>\n      <td>1000_145</td>\n      <td>1000</td>\n      <td>2018-12-27</td>\n      <td>13.66</td>\n    </tr>\n    <tr>\n      <th>2</th>\n      <td>1000_247</td>\n      <td>1000</td>\n      <td>2018-12-27</td>\n      <td>14.48</td>\n    </tr>\n    <tr>\n      <th>3</th>\n      <td>1000_309</td>\n      <td>1000</td>\n      <td>2018-12-28</td>\n      <td>5.76</td>\n    </tr>\n    <tr>\n      <th>4</th>\n      <td>1000_380</td>\n      <td>1000</td>\n      <td>2018-12-30</td>\n      <td>4.22</td>\n    </tr>\n    <tr>\n      <th>...</th>\n      <td>...</td>\n      <td>...</td>\n      <td>...</td>\n      <td>...</td>\n    </tr>\n    <tr>\n      <th>137730</th>\n      <td>1499_199</td>\n      <td>1499</td>\n      <td>2018-11-21</td>\n      <td>8.72</td>\n    </tr>\n    <tr>\n      <th>137731</th>\n      <td>1499_200</td>\n      <td>1499</td>\n      <td>2018-10-20</td>\n      <td>10.89</td>\n    </tr>\n    <tr>\n      <th>137732</th>\n      <td>1499_201</td>\n      <td>1499</td>\n      <td>2018-09-21</td>\n      <td>8.12</td>\n    </tr>\n    <tr>\n      <th>137733</th>\n      <td>1499_202</td>\n      <td>1499</td>\n      <td>2018-10-10</td>\n      <td>0.37</td>\n    </tr>\n    <tr>\n      <th>137734</th>\n      <td>1499_203</td>\n      <td>1499</td>\n      <td>2018-12-29</td>\n      <td>13.86</td>\n    </tr>\n  </tbody>\n</table>\n<p>137735 rows × 4 columns</p>\n</div>"
          },
          "metadata": {}
        }
      ],
      "execution_count": 11
    },
    {
      "cell_type": "markdown",
      "source": "## Message Dataset",
      "metadata": {}
    },
    {
      "cell_type": "markdown",
      "source": "The dataset \"messages\" contains the following fields:\n\n- `id`: unique identifier of the SMS.\n\n- `message_date`: date of the SMS.\n\n- `user_id`: identifier of the user who sent the SMS.",
      "metadata": {}
    },
    {
      "cell_type": "code",
      "source": "messages # Loading the data file into \"messages\" DataFrame",
      "metadata": {
        "trusted": true,
        "scrolled": true
      },
      "outputs": [
        {
          "execution_count": 10,
          "output_type": "execute_result",
          "data": {
            "text/plain": "             id  user_id message_date\n0      1000_125     1000   2018-12-27\n1      1000_160     1000   2018-12-31\n2      1000_223     1000   2018-12-31\n3      1000_251     1000   2018-12-27\n4      1000_255     1000   2018-12-26\n...         ...      ...          ...\n76046  1497_526     1497   2018-12-24\n76047  1497_536     1497   2018-12-24\n76048  1497_547     1497   2018-12-31\n76049  1497_558     1497   2018-12-24\n76050  1497_613     1497   2018-12-23\n\n[76051 rows x 3 columns]",
            "text/html": "<div>\n<style scoped>\n    .dataframe tbody tr th:only-of-type {\n        vertical-align: middle;\n    }\n\n    .dataframe tbody tr th {\n        vertical-align: top;\n    }\n\n    .dataframe thead th {\n        text-align: right;\n    }\n</style>\n<table border=\"1\" class=\"dataframe\">\n  <thead>\n    <tr style=\"text-align: right;\">\n      <th></th>\n      <th>id</th>\n      <th>user_id</th>\n      <th>message_date</th>\n    </tr>\n  </thead>\n  <tbody>\n    <tr>\n      <th>0</th>\n      <td>1000_125</td>\n      <td>1000</td>\n      <td>2018-12-27</td>\n    </tr>\n    <tr>\n      <th>1</th>\n      <td>1000_160</td>\n      <td>1000</td>\n      <td>2018-12-31</td>\n    </tr>\n    <tr>\n      <th>2</th>\n      <td>1000_223</td>\n      <td>1000</td>\n      <td>2018-12-31</td>\n    </tr>\n    <tr>\n      <th>3</th>\n      <td>1000_251</td>\n      <td>1000</td>\n      <td>2018-12-27</td>\n    </tr>\n    <tr>\n      <th>4</th>\n      <td>1000_255</td>\n      <td>1000</td>\n      <td>2018-12-26</td>\n    </tr>\n    <tr>\n      <th>...</th>\n      <td>...</td>\n      <td>...</td>\n      <td>...</td>\n    </tr>\n    <tr>\n      <th>76046</th>\n      <td>1497_526</td>\n      <td>1497</td>\n      <td>2018-12-24</td>\n    </tr>\n    <tr>\n      <th>76047</th>\n      <td>1497_536</td>\n      <td>1497</td>\n      <td>2018-12-24</td>\n    </tr>\n    <tr>\n      <th>76048</th>\n      <td>1497_547</td>\n      <td>1497</td>\n      <td>2018-12-31</td>\n    </tr>\n    <tr>\n      <th>76049</th>\n      <td>1497_558</td>\n      <td>1497</td>\n      <td>2018-12-24</td>\n    </tr>\n    <tr>\n      <th>76050</th>\n      <td>1497_613</td>\n      <td>1497</td>\n      <td>2018-12-23</td>\n    </tr>\n  </tbody>\n</table>\n<p>76051 rows × 3 columns</p>\n</div>"
          },
          "metadata": {}
        }
      ],
      "execution_count": 10
    },
    {
      "cell_type": "markdown",
      "source": "## Internet Dataset",
      "metadata": {}
    },
    {
      "cell_type": "markdown",
      "source": "The dataset \"internet\" contains the following fields:\n\n- `id`: unique identifier of the session.\n\n- `mb_used`: volume of data used during the session (in megabytes).\n\n- `session_date`: date of the web session.\n\n-  `user_id`: identifier of the user.\n\n\n\n\n\n\n\n",
      "metadata": {}
    },
    {
      "cell_type": "code",
      "source": "internet #Loading the data file into a DataFrame internet",
      "metadata": {},
      "outputs": [
        {
          "data": {
            "text/html": [
              "<div>\n",
              "<style scoped>\n",
              "    .dataframe tbody tr th:only-of-type {\n",
              "        vertical-align: middle;\n",
              "    }\n",
              "\n",
              "    .dataframe tbody tr th {\n",
              "        vertical-align: top;\n",
              "    }\n",
              "\n",
              "    .dataframe thead th {\n",
              "        text-align: right;\n",
              "    }\n",
              "</style>\n",
              "<table border=\"1\" class=\"dataframe\">\n",
              "  <thead>\n",
              "    <tr style=\"text-align: right;\">\n",
              "      <th></th>\n",
              "      <th>id</th>\n",
              "      <th>user_id</th>\n",
              "      <th>session_date</th>\n",
              "      <th>mb_used</th>\n",
              "    </tr>\n",
              "  </thead>\n",
              "  <tbody>\n",
              "    <tr>\n",
              "      <th>0</th>\n",
              "      <td>1000_13</td>\n",
              "      <td>1000</td>\n",
              "      <td>2018-12-29</td>\n",
              "      <td>89.86</td>\n",
              "    </tr>\n",
              "    <tr>\n",
              "      <th>1</th>\n",
              "      <td>1000_204</td>\n",
              "      <td>1000</td>\n",
              "      <td>2018-12-31</td>\n",
              "      <td>0.00</td>\n",
              "    </tr>\n",
              "    <tr>\n",
              "      <th>2</th>\n",
              "      <td>1000_379</td>\n",
              "      <td>1000</td>\n",
              "      <td>2018-12-28</td>\n",
              "      <td>660.40</td>\n",
              "    </tr>\n",
              "    <tr>\n",
              "      <th>3</th>\n",
              "      <td>1000_413</td>\n",
              "      <td>1000</td>\n",
              "      <td>2018-12-26</td>\n",
              "      <td>270.99</td>\n",
              "    </tr>\n",
              "    <tr>\n",
              "      <th>4</th>\n",
              "      <td>1000_442</td>\n",
              "      <td>1000</td>\n",
              "      <td>2018-12-27</td>\n",
              "      <td>880.22</td>\n",
              "    </tr>\n",
              "    <tr>\n",
              "      <th>...</th>\n",
              "      <td>...</td>\n",
              "      <td>...</td>\n",
              "      <td>...</td>\n",
              "      <td>...</td>\n",
              "    </tr>\n",
              "    <tr>\n",
              "      <th>104820</th>\n",
              "      <td>1499_215</td>\n",
              "      <td>1499</td>\n",
              "      <td>2018-10-20</td>\n",
              "      <td>218.06</td>\n",
              "    </tr>\n",
              "    <tr>\n",
              "      <th>104821</th>\n",
              "      <td>1499_216</td>\n",
              "      <td>1499</td>\n",
              "      <td>2018-12-30</td>\n",
              "      <td>304.72</td>\n",
              "    </tr>\n",
              "    <tr>\n",
              "      <th>104822</th>\n",
              "      <td>1499_217</td>\n",
              "      <td>1499</td>\n",
              "      <td>2018-09-22</td>\n",
              "      <td>292.75</td>\n",
              "    </tr>\n",
              "    <tr>\n",
              "      <th>104823</th>\n",
              "      <td>1499_218</td>\n",
              "      <td>1499</td>\n",
              "      <td>2018-12-07</td>\n",
              "      <td>0.00</td>\n",
              "    </tr>\n",
              "    <tr>\n",
              "      <th>104824</th>\n",
              "      <td>1499_219</td>\n",
              "      <td>1499</td>\n",
              "      <td>2018-12-24</td>\n",
              "      <td>758.31</td>\n",
              "    </tr>\n",
              "  </tbody>\n",
              "</table>\n",
              "<p>104825 rows × 4 columns</p>\n",
              "</div>"
            ],
            "text/plain": [
              "              id  user_id session_date  mb_used\n",
              "0        1000_13     1000   2018-12-29    89.86\n",
              "1       1000_204     1000   2018-12-31     0.00\n",
              "2       1000_379     1000   2018-12-28   660.40\n",
              "3       1000_413     1000   2018-12-26   270.99\n",
              "4       1000_442     1000   2018-12-27   880.22\n",
              "...          ...      ...          ...      ...\n",
              "104820  1499_215     1499   2018-10-20   218.06\n",
              "104821  1499_216     1499   2018-12-30   304.72\n",
              "104822  1499_217     1499   2018-09-22   292.75\n",
              "104823  1499_218     1499   2018-12-07     0.00\n",
              "104824  1499_219     1499   2018-12-24   758.31\n",
              "\n",
              "[104825 rows x 4 columns]"
            ]
          },
          "execution_count": 7,
          "metadata": {},
          "output_type": "execute_result"
        }
      ],
      "execution_count": 7
    },
    {
      "cell_type": "markdown",
      "source": "We explored each of the tables in the exercise. Subsequently, we will analyse them one by one.",
      "metadata": {}
    },
    {
      "cell_type": "markdown",
      "source": "## Plans",
      "metadata": {}
    },
    {
      "cell_type": "code",
      "source": "# Printing general information for the plans\nplans.info()",
      "metadata": {
        "trusted": true
      },
      "outputs": [
        {
          "name": "stdout",
          "output_type": "stream",
          "text": "<class 'pandas.core.frame.DataFrame'>\nRangeIndex: 2 entries, 0 to 1\nData columns (total 8 columns):\n #   Column                 Non-Null Count  Dtype  \n---  ------                 --------------  -----  \n 0   messages_included      2 non-null      int64  \n 1   mb_per_month_included  2 non-null      int64  \n 2   minutes_included       2 non-null      int64  \n 3   usd_monthly_pay        2 non-null      int64  \n 4   usd_per_gb             2 non-null      int64  \n 5   usd_per_message        2 non-null      float64\n 6   usd_per_minute         2 non-null      float64\n 7   plan_name              2 non-null      object \ndtypes: float64(2), int64(5), object(1)\nmemory usage: 192.0+ bytes\n"
        }
      ],
      "execution_count": 13
    },
    {
      "cell_type": "markdown",
      "source": "It can be seen that the plans do not have missing values, and there are no inappropriate data entries. The values for MB, minutes, and USD will be converted to float as they are continuous variables. Additionally, the monthly MB usage will be rounded up, so for example, 1025 MB would be considered as 2 GB.",
      "metadata": {}
    },
    {
      "cell_type": "markdown",
      "source": "## 4. Data Preprocesing <a id='preprocesing'></a>",
      "metadata": {}
    },
    {
      "cell_type": "markdown",
      "source": "### 4.1 Fixing Plan Dataset <a id='fix1'></a>",
      "metadata": {}
    },
    {
      "cell_type": "markdown",
      "source": "Procceding to correct the variables, data from the 'plans' table.",
      "metadata": {}
    },
    {
      "cell_type": "code",
      "source": "plans['mb_per_month_included'] = plans['mb_per_month_included'].astype(float)",
      "metadata": {
        "trusted": true
      },
      "outputs": [],
      "execution_count": 15
    },
    {
      "cell_type": "code",
      "source": "plans['minutes_included'] = plans['minutes_included'].astype(float)",
      "metadata": {
        "trusted": true
      },
      "outputs": [],
      "execution_count": 16
    },
    {
      "cell_type": "code",
      "source": "plans['usd_monthly_pay'] = plans['usd_monthly_pay'].astype(float)",
      "metadata": {
        "trusted": true
      },
      "outputs": [],
      "execution_count": 17
    },
    {
      "cell_type": "code",
      "source": "plans['usd_per_gb'] = plans['usd_per_gb'].astype(float)",
      "metadata": {
        "trusted": true
      },
      "outputs": [],
      "execution_count": 18
    },
    {
      "cell_type": "markdown",
      "source": "### 4.2 Enhancing Plan Dataset <a id='en1'></a>",
      "metadata": {}
    },
    {
      "cell_type": "markdown",
      "source": "Adding additional factors such as columns or data transformation.",
      "metadata": {}
    },
    {
      "cell_type": "code",
      "source": "# Define a function to round up\ndef round_up_to_gigabytes(mb_per_month_included):\n    gigabytes = np.ceil(mb_per_month_included / 1024)  # Dividir por 1024 para convertir de MB a GB\n    return gigabytes\n\n# Applying the function to the 'mb_per_month_included' column and create a new column 'gigabytes'\nplans['gb_per_month_included'] = plans['mb_per_month_included'].apply(round_up_to_gigabytes)",
      "metadata": {
        "trusted": true
      },
      "outputs": [],
      "execution_count": 19
    },
    {
      "cell_type": "code",
      "source": "plans.info() #verifying changes",
      "metadata": {
        "trusted": true
      },
      "outputs": [
        {
          "name": "stdout",
          "output_type": "stream",
          "text": "<class 'pandas.core.frame.DataFrame'>\nRangeIndex: 2 entries, 0 to 1\nData columns (total 9 columns):\n #   Column                 Non-Null Count  Dtype  \n---  ------                 --------------  -----  \n 0   messages_included      2 non-null      int64  \n 1   mb_per_month_included  2 non-null      float64\n 2   minutes_included       2 non-null      float64\n 3   usd_monthly_pay        2 non-null      float64\n 4   usd_per_gb             2 non-null      float64\n 5   usd_per_message        2 non-null      float64\n 6   usd_per_minute         2 non-null      float64\n 7   plan_name              2 non-null      object \n 8   gb_per_month_included  2 non-null      float64\ndtypes: float64(7), int64(1), object(1)\nmemory usage: 208.0+ bytes\n"
        }
      ],
      "execution_count": 21
    },
    {
      "cell_type": "markdown",
      "source": "### 4.3 Fixing Users Dataset <a id='fix2'></a>",
      "metadata": {}
    },
    {
      "cell_type": "code",
      "source": "# Printing the general information/summary about the users' DataFrame.\nusers.info()",
      "metadata": {
        "trusted": true
      },
      "outputs": [
        {
          "name": "stdout",
          "output_type": "stream",
          "text": "<class 'pandas.core.frame.DataFrame'>\nRangeIndex: 500 entries, 0 to 499\nData columns (total 8 columns):\n #   Column      Non-Null Count  Dtype \n---  ------      --------------  ----- \n 0   user_id     500 non-null    int64 \n 1   first_name  500 non-null    object\n 2   last_name   500 non-null    object\n 3   age         500 non-null    int64 \n 4   city        500 non-null    object\n 5   reg_date    500 non-null    object\n 6   plan        500 non-null    object\n 7   churn_date  34 non-null     object\ndtypes: int64(2), object(6)\nmemory usage: 19.6+ KB\n"
        }
      ],
      "execution_count": 22
    },
    {
      "cell_type": "code",
      "source": "users.describe() ",
      "metadata": {
        "trusted": true
      },
      "outputs": [
        {
          "execution_count": 23,
          "output_type": "execute_result",
          "data": {
            "text/plain": "           user_id         age\ncount   500.000000  500.000000\nmean   1249.500000   45.486000\nstd     144.481833   16.972269\nmin    1000.000000   18.000000\n25%    1124.750000   30.000000\n50%    1249.500000   46.000000\n75%    1374.250000   61.000000\nmax    1499.000000   75.000000",
            "text/html": "<div>\n<style scoped>\n    .dataframe tbody tr th:only-of-type {\n        vertical-align: middle;\n    }\n\n    .dataframe tbody tr th {\n        vertical-align: top;\n    }\n\n    .dataframe thead th {\n        text-align: right;\n    }\n</style>\n<table border=\"1\" class=\"dataframe\">\n  <thead>\n    <tr style=\"text-align: right;\">\n      <th></th>\n      <th>user_id</th>\n      <th>age</th>\n    </tr>\n  </thead>\n  <tbody>\n    <tr>\n      <th>count</th>\n      <td>500.000000</td>\n      <td>500.000000</td>\n    </tr>\n    <tr>\n      <th>mean</th>\n      <td>1249.500000</td>\n      <td>45.486000</td>\n    </tr>\n    <tr>\n      <th>std</th>\n      <td>144.481833</td>\n      <td>16.972269</td>\n    </tr>\n    <tr>\n      <th>min</th>\n      <td>1000.000000</td>\n      <td>18.000000</td>\n    </tr>\n    <tr>\n      <th>25%</th>\n      <td>1124.750000</td>\n      <td>30.000000</td>\n    </tr>\n    <tr>\n      <th>50%</th>\n      <td>1249.500000</td>\n      <td>46.000000</td>\n    </tr>\n    <tr>\n      <th>75%</th>\n      <td>1374.250000</td>\n      <td>61.000000</td>\n    </tr>\n    <tr>\n      <th>max</th>\n      <td>1499.000000</td>\n      <td>75.000000</td>\n    </tr>\n  </tbody>\n</table>\n</div>"
          },
          "metadata": {}
        }
      ],
      "execution_count": 23
    },
    {
      "cell_type": "code",
      "source": "# Printing a data sample of the users\nusers[users['churn_date'].notnull()].head()",
      "metadata": {
        "scrolled": true,
        "trusted": true
      },
      "outputs": [
        {
          "execution_count": 24,
          "output_type": "execute_result",
          "data": {
            "text/plain": "    user_id first_name last_name  age  \\\n6      1006     Jesusa  Bradford   73   \n12     1012    Jonelle   Mcbride   59   \n22     1022         Bo      Snow   73   \n40     1040      Paris    Santos   72   \n50     1050       Jone      Owen   23   \n\n                                               city    reg_date      plan  \\\n6            San Francisco-Oakland-Berkeley, CA MSA  2018-11-27  ultimate   \n12           Chicago-Naperville-Elgin, IL-IN-WI MSA  2018-06-28      surf   \n22        New York-Newark-Jersey City, NY-NJ-PA MSA  2018-04-20      surf   \n40  Philadelphia-Camden-Wilmington, PA-NJ-DE-MD MSA  2018-12-23      surf   \n50    Miami-Fort Lauderdale-West Palm Beach, FL MSA  2018-03-20  ultimate   \n\n    churn_date  \n6   2018-12-18  \n12  2018-11-16  \n22  2018-09-07  \n40  2018-12-30  \n50  2018-10-07  ",
            "text/html": "<div>\n<style scoped>\n    .dataframe tbody tr th:only-of-type {\n        vertical-align: middle;\n    }\n\n    .dataframe tbody tr th {\n        vertical-align: top;\n    }\n\n    .dataframe thead th {\n        text-align: right;\n    }\n</style>\n<table border=\"1\" class=\"dataframe\">\n  <thead>\n    <tr style=\"text-align: right;\">\n      <th></th>\n      <th>user_id</th>\n      <th>first_name</th>\n      <th>last_name</th>\n      <th>age</th>\n      <th>city</th>\n      <th>reg_date</th>\n      <th>plan</th>\n      <th>churn_date</th>\n    </tr>\n  </thead>\n  <tbody>\n    <tr>\n      <th>6</th>\n      <td>1006</td>\n      <td>Jesusa</td>\n      <td>Bradford</td>\n      <td>73</td>\n      <td>San Francisco-Oakland-Berkeley, CA MSA</td>\n      <td>2018-11-27</td>\n      <td>ultimate</td>\n      <td>2018-12-18</td>\n    </tr>\n    <tr>\n      <th>12</th>\n      <td>1012</td>\n      <td>Jonelle</td>\n      <td>Mcbride</td>\n      <td>59</td>\n      <td>Chicago-Naperville-Elgin, IL-IN-WI MSA</td>\n      <td>2018-06-28</td>\n      <td>surf</td>\n      <td>2018-11-16</td>\n    </tr>\n    <tr>\n      <th>22</th>\n      <td>1022</td>\n      <td>Bo</td>\n      <td>Snow</td>\n      <td>73</td>\n      <td>New York-Newark-Jersey City, NY-NJ-PA MSA</td>\n      <td>2018-04-20</td>\n      <td>surf</td>\n      <td>2018-09-07</td>\n    </tr>\n    <tr>\n      <th>40</th>\n      <td>1040</td>\n      <td>Paris</td>\n      <td>Santos</td>\n      <td>72</td>\n      <td>Philadelphia-Camden-Wilmington, PA-NJ-DE-MD MSA</td>\n      <td>2018-12-23</td>\n      <td>surf</td>\n      <td>2018-12-30</td>\n    </tr>\n    <tr>\n      <th>50</th>\n      <td>1050</td>\n      <td>Jone</td>\n      <td>Owen</td>\n      <td>23</td>\n      <td>Miami-Fort Lauderdale-West Palm Beach, FL MSA</td>\n      <td>2018-03-20</td>\n      <td>ultimate</td>\n      <td>2018-10-07</td>\n    </tr>\n  </tbody>\n</table>\n</div>"
          },
          "metadata": {}
        }
      ],
      "execution_count": 24
    },
    {
      "cell_type": "code",
      "source": "users['user_id'].unique()",
      "metadata": {
        "trusted": true
      },
      "outputs": [
        {
          "execution_count": 25,
          "output_type": "execute_result",
          "data": {
            "text/plain": "array([1000, 1001, 1002, 1003, 1004, 1005, 1006, 1007, 1008, 1009, 1010,\n       1011, 1012, 1013, 1014, 1015, 1016, 1017, 1018, 1019, 1020, 1021,\n       1022, 1023, 1024, 1025, 1026, 1027, 1028, 1029, 1030, 1031, 1032,\n       1033, 1034, 1035, 1036, 1037, 1038, 1039, 1040, 1041, 1042, 1043,\n       1044, 1045, 1046, 1047, 1048, 1049, 1050, 1051, 1052, 1053, 1054,\n       1055, 1056, 1057, 1058, 1059, 1060, 1061, 1062, 1063, 1064, 1065,\n       1066, 1067, 1068, 1069, 1070, 1071, 1072, 1073, 1074, 1075, 1076,\n       1077, 1078, 1079, 1080, 1081, 1082, 1083, 1084, 1085, 1086, 1087,\n       1088, 1089, 1090, 1091, 1092, 1093, 1094, 1095, 1096, 1097, 1098,\n       1099, 1100, 1101, 1102, 1103, 1104, 1105, 1106, 1107, 1108, 1109,\n       1110, 1111, 1112, 1113, 1114, 1115, 1116, 1117, 1118, 1119, 1120,\n       1121, 1122, 1123, 1124, 1125, 1126, 1127, 1128, 1129, 1130, 1131,\n       1132, 1133, 1134, 1135, 1136, 1137, 1138, 1139, 1140, 1141, 1142,\n       1143, 1144, 1145, 1146, 1147, 1148, 1149, 1150, 1151, 1152, 1153,\n       1154, 1155, 1156, 1157, 1158, 1159, 1160, 1161, 1162, 1163, 1164,\n       1165, 1166, 1167, 1168, 1169, 1170, 1171, 1172, 1173, 1174, 1175,\n       1176, 1177, 1178, 1179, 1180, 1181, 1182, 1183, 1184, 1185, 1186,\n       1187, 1188, 1189, 1190, 1191, 1192, 1193, 1194, 1195, 1196, 1197,\n       1198, 1199, 1200, 1201, 1202, 1203, 1204, 1205, 1206, 1207, 1208,\n       1209, 1210, 1211, 1212, 1213, 1214, 1215, 1216, 1217, 1218, 1219,\n       1220, 1221, 1222, 1223, 1224, 1225, 1226, 1227, 1228, 1229, 1230,\n       1231, 1232, 1233, 1234, 1235, 1236, 1237, 1238, 1239, 1240, 1241,\n       1242, 1243, 1244, 1245, 1246, 1247, 1248, 1249, 1250, 1251, 1252,\n       1253, 1254, 1255, 1256, 1257, 1258, 1259, 1260, 1261, 1262, 1263,\n       1264, 1265, 1266, 1267, 1268, 1269, 1270, 1271, 1272, 1273, 1274,\n       1275, 1276, 1277, 1278, 1279, 1280, 1281, 1282, 1283, 1284, 1285,\n       1286, 1287, 1288, 1289, 1290, 1291, 1292, 1293, 1294, 1295, 1296,\n       1297, 1298, 1299, 1300, 1301, 1302, 1303, 1304, 1305, 1306, 1307,\n       1308, 1309, 1310, 1311, 1312, 1313, 1314, 1315, 1316, 1317, 1318,\n       1319, 1320, 1321, 1322, 1323, 1324, 1325, 1326, 1327, 1328, 1329,\n       1330, 1331, 1332, 1333, 1334, 1335, 1336, 1337, 1338, 1339, 1340,\n       1341, 1342, 1343, 1344, 1345, 1346, 1347, 1348, 1349, 1350, 1351,\n       1352, 1353, 1354, 1355, 1356, 1357, 1358, 1359, 1360, 1361, 1362,\n       1363, 1364, 1365, 1366, 1367, 1368, 1369, 1370, 1371, 1372, 1373,\n       1374, 1375, 1376, 1377, 1378, 1379, 1380, 1381, 1382, 1383, 1384,\n       1385, 1386, 1387, 1388, 1389, 1390, 1391, 1392, 1393, 1394, 1395,\n       1396, 1397, 1398, 1399, 1400, 1401, 1402, 1403, 1404, 1405, 1406,\n       1407, 1408, 1409, 1410, 1411, 1412, 1413, 1414, 1415, 1416, 1417,\n       1418, 1419, 1420, 1421, 1422, 1423, 1424, 1425, 1426, 1427, 1428,\n       1429, 1430, 1431, 1432, 1433, 1434, 1435, 1436, 1437, 1438, 1439,\n       1440, 1441, 1442, 1443, 1444, 1445, 1446, 1447, 1448, 1449, 1450,\n       1451, 1452, 1453, 1454, 1455, 1456, 1457, 1458, 1459, 1460, 1461,\n       1462, 1463, 1464, 1465, 1466, 1467, 1468, 1469, 1470, 1471, 1472,\n       1473, 1474, 1475, 1476, 1477, 1478, 1479, 1480, 1481, 1482, 1483,\n       1484, 1485, 1486, 1487, 1488, 1489, 1490, 1491, 1492, 1493, 1494,\n       1495, 1496, 1497, 1498, 1499], dtype=int64)"
          },
          "metadata": {}
        }
      ],
      "execution_count": 25
    },
    {
      "cell_type": "code",
      "source": "users['churn_date'].sort_values().unique()",
      "metadata": {
        "scrolled": true,
        "trusted": true
      },
      "outputs": [
        {
          "execution_count": 27,
          "output_type": "execute_result",
          "data": {
            "text/plain": "array(['2018-07-31', '2018-08-16', '2018-08-19', '2018-09-01',\n       '2018-09-07', '2018-09-17', '2018-09-18', '2018-10-03',\n       '2018-10-07', '2018-10-13', '2018-10-22', '2018-11-11',\n       '2018-11-14', '2018-11-16', '2018-11-18', '2018-11-21',\n       '2018-11-24', '2018-11-29', '2018-11-30', '2018-12-10',\n       '2018-12-12', '2018-12-15', '2018-12-18', '2018-12-19',\n       '2018-12-22', '2018-12-26', '2018-12-27', '2018-12-30',\n       '2018-12-31', nan], dtype=object)"
          },
          "metadata": {}
        }
      ],
      "execution_count": 27
    },
    {
      "cell_type": "code",
      "source": "users['plan'].unique()",
      "metadata": {
        "trusted": true
      },
      "outputs": [
        {
          "execution_count": 28,
          "output_type": "execute_result",
          "data": {
            "text/plain": "array(['ultimate', 'surf'], dtype=object)"
          },
          "metadata": {}
        }
      ],
      "execution_count": 28
    },
    {
      "cell_type": "code",
      "source": "users['city'].sort_values().unique()",
      "metadata": {
        "scrolled": true,
        "trusted": true
      },
      "outputs": [
        {
          "execution_count": 29,
          "output_type": "execute_result",
          "data": {
            "text/plain": "array(['Albany-Schenectady-Troy, NY MSA', 'Albuquerque, NM MSA',\n       'Atlanta-Sandy Springs-Roswell, GA MSA',\n       'Austin-Round Rock-Georgetown, TX MSA', 'Bakersfield, CA MSA',\n       'Baltimore-Columbia-Towson, MD MSA', 'Baton Rouge, LA MSA',\n       'Birmingham-Hoover, AL MSA', 'Boston-Cambridge-Newton, MA-NH MSA',\n       'Bridgeport-Stamford-Norwalk, CT MSA',\n       'Buffalo-Cheektowaga, NY MSA', 'Cape Coral-Fort Myers, FL MSA',\n       'Charleston-North Charleston, SC MSA',\n       'Charlotte-Concord-Gastonia, NC-SC MSA',\n       'Chicago-Naperville-Elgin, IL-IN-WI MSA',\n       'Cincinnati, OH-KY-IN MSA', 'Cleveland-Elyria, OH MSA',\n       'Colorado Springs, CO MSA', 'Columbia, SC MSA', 'Columbus, OH MSA',\n       'Dallas-Fort Worth-Arlington, TX MSA', 'Dayton-Kettering, OH MSA',\n       'Denver-Aurora-Lakewood, CO MSA',\n       'Detroit-Warren-Dearborn, MI MSA', 'El Paso, TX MSA',\n       'Fresno, CA MSA', 'Grand Rapids-Kentwood, MI MSA',\n       'Greensboro-High Point, NC MSA',\n       'Houston-The Woodlands-Sugar Land, TX MSA',\n       'Indianapolis-Carmel-Anderson, IN MSA', 'Jacksonville, FL MSA',\n       'Kansas City, MO-KS MSA', 'Knoxville, TN MSA',\n       'Las Vegas-Henderson-Paradise, NV MSA',\n       'Los Angeles-Long Beach-Anaheim, CA MSA',\n       'Louisville/Jefferson County, KY-IN MSA', 'Memphis, TN-MS-AR MSA',\n       'Miami-Fort Lauderdale-West Palm Beach, FL MSA',\n       'Milwaukee-Waukesha, WI MSA',\n       'Minneapolis-St. Paul-Bloomington, MN-WI MSA',\n       'Nashville-Davidson–Murfreesboro–Franklin, TN MSA',\n       'New Haven-Milford, CT MSA', 'New Orleans-Metairie, LA MSA',\n       'New York-Newark-Jersey City, NY-NJ-PA MSA',\n       'North Port-Sarasota-Bradenton, FL MSA', 'Oklahoma City, OK MSA',\n       'Omaha-Council Bluffs, NE-IA MSA',\n       'Orlando-Kissimmee-Sanford, FL MSA',\n       'Oxnard-Thousand Oaks-Ventura, CA MSA',\n       'Philadelphia-Camden-Wilmington, PA-NJ-DE-MD MSA',\n       'Phoenix-Mesa-Chandler, AZ MSA', 'Pittsburgh, PA MSA',\n       'Portland-Vancouver-Hillsboro, OR-WA MSA',\n       'Providence-Warwick, RI-MA MSA', 'Raleigh-Cary, NC MSA',\n       'Richmond, VA MSA', 'Riverside-San Bernardino-Ontario, CA MSA',\n       'Rochester, NY MSA', 'Sacramento–Roseville–Folsom, CA MSA',\n       'Salt Lake City, UT MSA', 'San Antonio-New Braunfels, TX MSA',\n       'San Diego-Chula Vista-Carlsbad, CA MSA',\n       'San Francisco-Oakland-Berkeley, CA MSA',\n       'San Jose-Sunnyvale-Santa Clara, CA MSA',\n       'Seattle-Tacoma-Bellevue, WA MSA', 'St. Louis, MO-IL MSA',\n       'Stockton, CA MSA', 'Tampa-St. Petersburg-Clearwater, FL MSA',\n       'Tucson, AZ MSA', 'Tulsa, OK MSA', 'Urban Honolulu, HI MSA',\n       'Virginia Beach-Norfolk-Newport News, VA-NC MSA',\n       'Washington-Arlington-Alexandria, DC-VA-MD-WV MSA'], dtype=object)"
          },
          "metadata": {}
        }
      ],
      "execution_count": 29
    },
    {
      "cell_type": "code",
      "source": "duplicados_users = users.duplicated()\ncantidad_duplicados_users = duplicados_users.sum()\nprint(cantidad_duplicados_users) # Finally, we check the number of duplicate rows in the 'users' table.",
      "metadata": {
        "scrolled": true,
        "trusted": true
      },
      "outputs": [
        {
          "name": "stdout",
          "output_type": "stream",
          "text": "0\n"
        }
      ],
      "execution_count": 31
    },
    {
      "cell_type": "markdown",
      "source": "It can be seen that there are missing values in the date when the user stopped using the service, and it is indicated that if it is a missing value, it means that the rate was still being used, so another column for 'validity' will be created to differentiate these cases. No anomalies are seen in other types of data such as unstandardised texts or age values or dates that are out of the ordinary. The date variables must be in 'datetime' format. In addition, the months from this table will be extracted for subsequent analysis.",
      "metadata": {}
    },
    {
      "cell_type": "markdown",
      "source": " ",
      "metadata": {}
    },
    {
      "cell_type": "markdown",
      "source": "### Fixing data",
      "metadata": {}
    },
    {
      "cell_type": "code",
      "source": "users['reg_date'] = pd.to_datetime(users['reg_date'], format='%Y-%m-%d') #Changing the format to 'datetime'",
      "metadata": {
        "trusted": true
      },
      "outputs": [],
      "execution_count": 32
    },
    {
      "cell_type": "code",
      "source": "users['churn_date'] = pd.to_datetime(users['churn_date'], format='%Y-%m-%d') #changing the format to 'datetime'",
      "metadata": {
        "trusted": true
      },
      "outputs": [],
      "execution_count": 33
    },
    {
      "cell_type": "code",
      "source": "users.info() #verifying the changes",
      "metadata": {
        "scrolled": true,
        "trusted": true
      },
      "outputs": [
        {
          "name": "stdout",
          "output_type": "stream",
          "text": "<class 'pandas.core.frame.DataFrame'>\nRangeIndex: 500 entries, 0 to 499\nData columns (total 8 columns):\n #   Column      Non-Null Count  Dtype         \n---  ------      --------------  -----         \n 0   user_id     500 non-null    int64         \n 1   first_name  500 non-null    object        \n 2   last_name   500 non-null    object        \n 3   age         500 non-null    int64         \n 4   city        500 non-null    object        \n 5   reg_date    500 non-null    datetime64[ns]\n 6   plan        500 non-null    object        \n 7   churn_date  34 non-null     datetime64[ns]\ndtypes: datetime64[ns](2), int64(2), object(4)\nmemory usage: 23.5+ KB\n"
        }
      ],
      "execution_count": 34
    },
    {
      "cell_type": "markdown",
      "source": "### 4.4 Enhancing users Dataset <a id='en2'></a>",
      "metadata": {}
    },
    {
      "cell_type": "code",
      "source": "#We created a new binary variable to differentiate whether the user continues using the service or not. \ndef binary(value):\n    if pd.isna(value):\n        return 1 #if it is missing value, returns 1.\n    else:\n        return 0 #Otherwise returns 0.\n\nusers['vigencia'] = users['churn_date'].apply(binary)",
      "metadata": {
        "trusted": true
      },
      "outputs": [],
      "execution_count": 35
    },
    {
      "cell_type": "code",
      "source": "#We separated the months into a separate column to compare the validity of the plan (lower limit). \nusers['month_reg'] = users['reg_date'].dt.month",
      "metadata": {
        "trusted": true
      },
      "outputs": [],
      "execution_count": 36
    },
    {
      "cell_type": "code",
      "source": "#We separated the months into a separate column to compare the validity of the plan (upper limit). \n\nusers['month_churn'] = users['churn_date'].dt.month",
      "metadata": {
        "trusted": true
      },
      "outputs": [],
      "execution_count": 37
    },
    {
      "cell_type": "code",
      "source": "# We changed the name of the column 'plan' to 'plan_name' to standardise titles with the plans database. \nusers = users.rename(columns={'plan': 'plan_name'})",
      "metadata": {
        "trusted": true
      },
      "outputs": [],
      "execution_count": 38
    },
    {
      "cell_type": "code",
      "source": "users[pd.notna(users['churn_date'])].head(5) #We check the overdue cases.",
      "metadata": {
        "scrolled": true,
        "trusted": true
      },
      "outputs": [
        {
          "execution_count": 39,
          "output_type": "execute_result",
          "data": {
            "text/plain": "    user_id first_name last_name  age  \\\n6      1006     Jesusa  Bradford   73   \n12     1012    Jonelle   Mcbride   59   \n22     1022         Bo      Snow   73   \n40     1040      Paris    Santos   72   \n50     1050       Jone      Owen   23   \n\n                                               city   reg_date plan_name  \\\n6            San Francisco-Oakland-Berkeley, CA MSA 2018-11-27  ultimate   \n12           Chicago-Naperville-Elgin, IL-IN-WI MSA 2018-06-28      surf   \n22        New York-Newark-Jersey City, NY-NJ-PA MSA 2018-04-20      surf   \n40  Philadelphia-Camden-Wilmington, PA-NJ-DE-MD MSA 2018-12-23      surf   \n50    Miami-Fort Lauderdale-West Palm Beach, FL MSA 2018-03-20  ultimate   \n\n   churn_date  vigencia  month_reg  month_churn  \n6  2018-12-18         0         11         12.0  \n12 2018-11-16         0          6         11.0  \n22 2018-09-07         0          4          9.0  \n40 2018-12-30         0         12         12.0  \n50 2018-10-07         0          3         10.0  ",
            "text/html": "<div>\n<style scoped>\n    .dataframe tbody tr th:only-of-type {\n        vertical-align: middle;\n    }\n\n    .dataframe tbody tr th {\n        vertical-align: top;\n    }\n\n    .dataframe thead th {\n        text-align: right;\n    }\n</style>\n<table border=\"1\" class=\"dataframe\">\n  <thead>\n    <tr style=\"text-align: right;\">\n      <th></th>\n      <th>user_id</th>\n      <th>first_name</th>\n      <th>last_name</th>\n      <th>age</th>\n      <th>city</th>\n      <th>reg_date</th>\n      <th>plan_name</th>\n      <th>churn_date</th>\n      <th>vigencia</th>\n      <th>month_reg</th>\n      <th>month_churn</th>\n    </tr>\n  </thead>\n  <tbody>\n    <tr>\n      <th>6</th>\n      <td>1006</td>\n      <td>Jesusa</td>\n      <td>Bradford</td>\n      <td>73</td>\n      <td>San Francisco-Oakland-Berkeley, CA MSA</td>\n      <td>2018-11-27</td>\n      <td>ultimate</td>\n      <td>2018-12-18</td>\n      <td>0</td>\n      <td>11</td>\n      <td>12.0</td>\n    </tr>\n    <tr>\n      <th>12</th>\n      <td>1012</td>\n      <td>Jonelle</td>\n      <td>Mcbride</td>\n      <td>59</td>\n      <td>Chicago-Naperville-Elgin, IL-IN-WI MSA</td>\n      <td>2018-06-28</td>\n      <td>surf</td>\n      <td>2018-11-16</td>\n      <td>0</td>\n      <td>6</td>\n      <td>11.0</td>\n    </tr>\n    <tr>\n      <th>22</th>\n      <td>1022</td>\n      <td>Bo</td>\n      <td>Snow</td>\n      <td>73</td>\n      <td>New York-Newark-Jersey City, NY-NJ-PA MSA</td>\n      <td>2018-04-20</td>\n      <td>surf</td>\n      <td>2018-09-07</td>\n      <td>0</td>\n      <td>4</td>\n      <td>9.0</td>\n    </tr>\n    <tr>\n      <th>40</th>\n      <td>1040</td>\n      <td>Paris</td>\n      <td>Santos</td>\n      <td>72</td>\n      <td>Philadelphia-Camden-Wilmington, PA-NJ-DE-MD MSA</td>\n      <td>2018-12-23</td>\n      <td>surf</td>\n      <td>2018-12-30</td>\n      <td>0</td>\n      <td>12</td>\n      <td>12.0</td>\n    </tr>\n    <tr>\n      <th>50</th>\n      <td>1050</td>\n      <td>Jone</td>\n      <td>Owen</td>\n      <td>23</td>\n      <td>Miami-Fort Lauderdale-West Palm Beach, FL MSA</td>\n      <td>2018-03-20</td>\n      <td>ultimate</td>\n      <td>2018-10-07</td>\n      <td>0</td>\n      <td>3</td>\n      <td>10.0</td>\n    </tr>\n  </tbody>\n</table>\n</div>"
          },
          "metadata": {}
        }
      ],
      "execution_count": 39
    },
    {
      "cell_type": "code",
      "source": "#We added a column that groups the other cities that are not NY and NJ for the purposes of the hypothesis test in chapter 1.15. \ndef agrupar_ciudades(ciudad):\n    if ciudad != 'New York-Newark-Jersey City, NY-NJ-PA MSA':\n        return 'otras regiones'\n    else:\n        return ciudad\n\nusers['regiones'] = users['city'].apply(agrupar_ciudades)",
      "metadata": {
        "trusted": true
      },
      "outputs": [],
      "execution_count": 40
    },
    {
      "cell_type": "code",
      "source": "users.info() #verifying the changes",
      "metadata": {
        "trusted": true
      },
      "outputs": [
        {
          "name": "stdout",
          "output_type": "stream",
          "text": "<class 'pandas.core.frame.DataFrame'>\nRangeIndex: 500 entries, 0 to 499\nData columns (total 12 columns):\n #   Column       Non-Null Count  Dtype         \n---  ------       --------------  -----         \n 0   user_id      500 non-null    int64         \n 1   first_name   500 non-null    object        \n 2   last_name    500 non-null    object        \n 3   age          500 non-null    int64         \n 4   city         500 non-null    object        \n 5   reg_date     500 non-null    datetime64[ns]\n 6   plan_name    500 non-null    object        \n 7   churn_date   34 non-null     datetime64[ns]\n 8   vigencia     500 non-null    int64         \n 9   month_reg    500 non-null    int32         \n 10  month_churn  34 non-null     float64       \n 11  regiones     500 non-null    object        \ndtypes: datetime64[ns](2), float64(1), int32(1), int64(3), object(5)\nmemory usage: 35.2+ KB\n"
        }
      ],
      "execution_count": 41
    },
    {
      "cell_type": "markdown",
      "source": "Although the columns 'churn_date' and 'month_churn' technically have missing values, these will be eliminated when we join all the tables and apply the filters.",
      "metadata": {}
    },
    {
      "cell_type": "markdown",
      "source": "### 4.5 Fixing Calls Dataset <a id='fix3'></a>",
      "metadata": {}
    },
    {
      "cell_type": "code",
      "source": "# Printing general information of calls datagframe\ncalls.info()",
      "metadata": {
        "scrolled": true,
        "trusted": true
      },
      "outputs": [
        {
          "name": "stdout",
          "output_type": "stream",
          "text": "<class 'pandas.core.frame.DataFrame'>\nRangeIndex: 137735 entries, 0 to 137734\nData columns (total 4 columns):\n #   Column     Non-Null Count   Dtype  \n---  ------     --------------   -----  \n 0   id         137735 non-null  object \n 1   user_id    137735 non-null  int64  \n 2   call_date  137735 non-null  object \n 3   duration   137735 non-null  float64\ndtypes: float64(1), int64(1), object(2)\nmemory usage: 3.2+ MB\n"
        }
      ],
      "execution_count": 42
    },
    {
      "cell_type": "code",
      "source": "# printing the last 5 calls cases of the dataset\ncalls.tail(5)",
      "metadata": {
        "scrolled": true,
        "trusted": true
      },
      "outputs": [
        {
          "execution_count": 43,
          "output_type": "execute_result",
          "data": {
            "text/plain": "              id  user_id   call_date  duration\n137730  1499_199     1499  2018-11-21      8.72\n137731  1499_200     1499  2018-10-20     10.89\n137732  1499_201     1499  2018-09-21      8.12\n137733  1499_202     1499  2018-10-10      0.37\n137734  1499_203     1499  2018-12-29     13.86",
            "text/html": "<div>\n<style scoped>\n    .dataframe tbody tr th:only-of-type {\n        vertical-align: middle;\n    }\n\n    .dataframe tbody tr th {\n        vertical-align: top;\n    }\n\n    .dataframe thead th {\n        text-align: right;\n    }\n</style>\n<table border=\"1\" class=\"dataframe\">\n  <thead>\n    <tr style=\"text-align: right;\">\n      <th></th>\n      <th>id</th>\n      <th>user_id</th>\n      <th>call_date</th>\n      <th>duration</th>\n    </tr>\n  </thead>\n  <tbody>\n    <tr>\n      <th>137730</th>\n      <td>1499_199</td>\n      <td>1499</td>\n      <td>2018-11-21</td>\n      <td>8.72</td>\n    </tr>\n    <tr>\n      <th>137731</th>\n      <td>1499_200</td>\n      <td>1499</td>\n      <td>2018-10-20</td>\n      <td>10.89</td>\n    </tr>\n    <tr>\n      <th>137732</th>\n      <td>1499_201</td>\n      <td>1499</td>\n      <td>2018-09-21</td>\n      <td>8.12</td>\n    </tr>\n    <tr>\n      <th>137733</th>\n      <td>1499_202</td>\n      <td>1499</td>\n      <td>2018-10-10</td>\n      <td>0.37</td>\n    </tr>\n    <tr>\n      <th>137734</th>\n      <td>1499_203</td>\n      <td>1499</td>\n      <td>2018-12-29</td>\n      <td>13.86</td>\n    </tr>\n  </tbody>\n</table>\n</div>"
          },
          "metadata": {}
        }
      ],
      "execution_count": 43
    },
    {
      "cell_type": "code",
      "source": "calls.describe()",
      "metadata": {
        "scrolled": true,
        "trusted": true
      },
      "outputs": [
        {
          "execution_count": 44,
          "output_type": "execute_result",
          "data": {
            "text/plain": "             user_id       duration\ncount  137735.000000  137735.000000\nmean     1247.658046       6.745927\nstd       139.416268       5.839241\nmin      1000.000000       0.000000\n25%      1128.000000       1.290000\n50%      1247.000000       5.980000\n75%      1365.000000      10.690000\nmax      1499.000000      37.600000",
            "text/html": "<div>\n<style scoped>\n    .dataframe tbody tr th:only-of-type {\n        vertical-align: middle;\n    }\n\n    .dataframe tbody tr th {\n        vertical-align: top;\n    }\n\n    .dataframe thead th {\n        text-align: right;\n    }\n</style>\n<table border=\"1\" class=\"dataframe\">\n  <thead>\n    <tr style=\"text-align: right;\">\n      <th></th>\n      <th>user_id</th>\n      <th>duration</th>\n    </tr>\n  </thead>\n  <tbody>\n    <tr>\n      <th>count</th>\n      <td>137735.000000</td>\n      <td>137735.000000</td>\n    </tr>\n    <tr>\n      <th>mean</th>\n      <td>1247.658046</td>\n      <td>6.745927</td>\n    </tr>\n    <tr>\n      <th>std</th>\n      <td>139.416268</td>\n      <td>5.839241</td>\n    </tr>\n    <tr>\n      <th>min</th>\n      <td>1000.000000</td>\n      <td>0.000000</td>\n    </tr>\n    <tr>\n      <th>25%</th>\n      <td>1128.000000</td>\n      <td>1.290000</td>\n    </tr>\n    <tr>\n      <th>50%</th>\n      <td>1247.000000</td>\n      <td>5.980000</td>\n    </tr>\n    <tr>\n      <th>75%</th>\n      <td>1365.000000</td>\n      <td>10.690000</td>\n    </tr>\n    <tr>\n      <th>max</th>\n      <td>1499.000000</td>\n      <td>37.600000</td>\n    </tr>\n  </tbody>\n</table>\n</div>"
          },
          "metadata": {}
        }
      ],
      "execution_count": 44
    },
    {
      "cell_type": "code",
      "source": "duplicados = calls.duplicated()\ncantidad_duplicados = duplicados.sum()\nprint(cantidad_duplicados) # Finally, we check the number of duplicate rows in the 'calls' table.",
      "metadata": {
        "trusted": true
      },
      "outputs": [
        {
          "name": "stdout",
          "output_type": "stream",
          "text": "0\n"
        }
      ],
      "execution_count": 46
    },
    {
      "cell_type": "markdown",
      "source": "For the case of the 'calls' table, we can see that the variable 'call_date' should be in datetime format. We see that there are no missing values or duplicates. \nOn the other hand, we see that there are call duration values equal to 0, meaning we will need to analyse in greater depth how many data points correspond to those values, as they could be anomalies originating from the data or could simply be considered as missed calls. Finally, in the 'duration' column, there are values in minutes with seconds, where according to the business policy, individual calls should be rounded up; this will also be corrected. It should be noted that the exercise requires obtaining the calls per month, so it will be necessary to extract the month.",
      "metadata": {}
    },
    {
      "cell_type": "code",
      "source": "#We check the proportion of zero values in 'duration' in total.\nnum_filas = calls.shape[0]\nfila_cero = (calls['duration']==0).sum()\nprop_cero = fila_cero / num_filas *100 #percentaje of zero values in total\nprint(prop_cero)",
      "metadata": {
        "trusted": true
      },
      "outputs": [
        {
          "name": "stdout",
          "output_type": "stream",
          "text": "19.482339274694162\n"
        }
      ],
      "execution_count": 48
    },
    {
      "cell_type": "code",
      "source": "print(calls[calls['duration'] != 0]['duration'].mean())",
      "metadata": {
        "trusted": true
      },
      "outputs": [
        {
          "name": "stdout",
          "output_type": "stream",
          "text": "8.37819550770507\n"
        }
      ],
      "execution_count": 50
    },
    {
      "cell_type": "code",
      "source": "print(calls[calls['duration'] != 0]['duration'].median())",
      "metadata": {
        "trusted": true
      },
      "outputs": [
        {
          "name": "stdout",
          "output_type": "stream",
          "text": "7.71\n"
        }
      ],
      "execution_count": 51
    },
    {
      "cell_type": "markdown",
      "source": "We see that the percentage of '0' values out of the total is 19% and that if we omit these values, the mean and median of 'duration' increase by around 2 minutes. Given the above, since those 2 minutes are not a negligible value in calls, we will consider those zero values as missed calls.",
      "metadata": {}
    },
    {
      "cell_type": "markdown",
      "source": " ",
      "metadata": {}
    },
    {
      "cell_type": "code",
      "source": "# Fixing calls datetime format\ncalls['call_date'] = pd.to_datetime(calls['call_date'], format='%Y-%m-%d')",
      "metadata": {
        "trusted": true
      },
      "outputs": [],
      "execution_count": 53
    },
    {
      "cell_type": "markdown",
      "source": "### 4.6 Enhancing calls Dataset <a id='en3'></a>",
      "metadata": {}
    },
    {
      "cell_type": "code",
      "source": "calls['duration_fix'] = np.ceil(calls['duration']) #we round the values up, creating a new column. Example: 4.1 to 5 minutes.",
      "metadata": {
        "trusted": true
      },
      "outputs": [],
      "execution_count": 54
    },
    {
      "cell_type": "code",
      "source": "#We separated the months into a separate column to be able to calculate the calls and minutes per month. \ncalls['month'] = calls['call_date'].dt.month",
      "metadata": {
        "trusted": true
      },
      "outputs": [],
      "execution_count": 55
    },
    {
      "cell_type": "code",
      "source": "calls.info() #verifying the changes",
      "metadata": {
        "trusted": true
      },
      "outputs": [
        {
          "name": "stdout",
          "output_type": "stream",
          "text": "<class 'pandas.core.frame.DataFrame'>\nRangeIndex: 137735 entries, 0 to 137734\nData columns (total 6 columns):\n #   Column        Non-Null Count   Dtype         \n---  ------        --------------   -----         \n 0   id            137735 non-null  object        \n 1   user_id       137735 non-null  int64         \n 2   call_date     137735 non-null  datetime64[ns]\n 3   duration      137735 non-null  float64       \n 4   duration_fix  137735 non-null  float64       \n 5   month         137735 non-null  int32         \ndtypes: datetime64[ns](1), float64(2), int32(1), int64(1), object(1)\nmemory usage: 5.3+ MB\n"
        }
      ],
      "execution_count": 56
    },
    {
      "cell_type": "code",
      "source": "calls.tail(5) #verifying the changes",
      "metadata": {
        "trusted": true
      },
      "outputs": [
        {
          "execution_count": 57,
          "output_type": "execute_result",
          "data": {
            "text/plain": "              id  user_id  call_date  duration  duration_fix  month\n137730  1499_199     1499 2018-11-21      8.72           9.0     11\n137731  1499_200     1499 2018-10-20     10.89          11.0     10\n137732  1499_201     1499 2018-09-21      8.12           9.0      9\n137733  1499_202     1499 2018-10-10      0.37           1.0     10\n137734  1499_203     1499 2018-12-29     13.86          14.0     12",
            "text/html": "<div>\n<style scoped>\n    .dataframe tbody tr th:only-of-type {\n        vertical-align: middle;\n    }\n\n    .dataframe tbody tr th {\n        vertical-align: top;\n    }\n\n    .dataframe thead th {\n        text-align: right;\n    }\n</style>\n<table border=\"1\" class=\"dataframe\">\n  <thead>\n    <tr style=\"text-align: right;\">\n      <th></th>\n      <th>id</th>\n      <th>user_id</th>\n      <th>call_date</th>\n      <th>duration</th>\n      <th>duration_fix</th>\n      <th>month</th>\n    </tr>\n  </thead>\n  <tbody>\n    <tr>\n      <th>137730</th>\n      <td>1499_199</td>\n      <td>1499</td>\n      <td>2018-11-21</td>\n      <td>8.72</td>\n      <td>9.0</td>\n      <td>11</td>\n    </tr>\n    <tr>\n      <th>137731</th>\n      <td>1499_200</td>\n      <td>1499</td>\n      <td>2018-10-20</td>\n      <td>10.89</td>\n      <td>11.0</td>\n      <td>10</td>\n    </tr>\n    <tr>\n      <th>137732</th>\n      <td>1499_201</td>\n      <td>1499</td>\n      <td>2018-09-21</td>\n      <td>8.12</td>\n      <td>9.0</td>\n      <td>9</td>\n    </tr>\n    <tr>\n      <th>137733</th>\n      <td>1499_202</td>\n      <td>1499</td>\n      <td>2018-10-10</td>\n      <td>0.37</td>\n      <td>1.0</td>\n      <td>10</td>\n    </tr>\n    <tr>\n      <th>137734</th>\n      <td>1499_203</td>\n      <td>1499</td>\n      <td>2018-12-29</td>\n      <td>13.86</td>\n      <td>14.0</td>\n      <td>12</td>\n    </tr>\n  </tbody>\n</table>\n</div>"
          },
          "metadata": {}
        }
      ],
      "execution_count": 57
    },
    {
      "cell_type": "markdown",
      "source": "### 4.7 Fixing Messages Dataset <a id='fix4'></a>",
      "metadata": {}
    },
    {
      "cell_type": "code",
      "source": "# We separated the months into a separate column to be able to calculate the calls and minutes per month. \nmessages.info()",
      "metadata": {
        "trusted": true
      },
      "outputs": [
        {
          "name": "stdout",
          "output_type": "stream",
          "text": "<class 'pandas.core.frame.DataFrame'>\nRangeIndex: 76051 entries, 0 to 76050\nData columns (total 3 columns):\n #   Column        Non-Null Count  Dtype \n---  ------        --------------  ----- \n 0   id            76051 non-null  object\n 1   user_id       76051 non-null  int64 \n 2   message_date  76051 non-null  object\ndtypes: int64(1), object(2)\nmemory usage: 1.2+ MB\n"
        }
      ],
      "execution_count": 58
    },
    {
      "cell_type": "code",
      "source": "# Printing a sample of data for the messages \nmessages.head(5)",
      "metadata": {
        "trusted": true
      },
      "outputs": [
        {
          "execution_count": 59,
          "output_type": "execute_result",
          "data": {
            "text/plain": "         id  user_id message_date\n0  1000_125     1000   2018-12-27\n1  1000_160     1000   2018-12-31\n2  1000_223     1000   2018-12-31\n3  1000_251     1000   2018-12-27\n4  1000_255     1000   2018-12-26",
            "text/html": "<div>\n<style scoped>\n    .dataframe tbody tr th:only-of-type {\n        vertical-align: middle;\n    }\n\n    .dataframe tbody tr th {\n        vertical-align: top;\n    }\n\n    .dataframe thead th {\n        text-align: right;\n    }\n</style>\n<table border=\"1\" class=\"dataframe\">\n  <thead>\n    <tr style=\"text-align: right;\">\n      <th></th>\n      <th>id</th>\n      <th>user_id</th>\n      <th>message_date</th>\n    </tr>\n  </thead>\n  <tbody>\n    <tr>\n      <th>0</th>\n      <td>1000_125</td>\n      <td>1000</td>\n      <td>2018-12-27</td>\n    </tr>\n    <tr>\n      <th>1</th>\n      <td>1000_160</td>\n      <td>1000</td>\n      <td>2018-12-31</td>\n    </tr>\n    <tr>\n      <th>2</th>\n      <td>1000_223</td>\n      <td>1000</td>\n      <td>2018-12-31</td>\n    </tr>\n    <tr>\n      <th>3</th>\n      <td>1000_251</td>\n      <td>1000</td>\n      <td>2018-12-27</td>\n    </tr>\n    <tr>\n      <th>4</th>\n      <td>1000_255</td>\n      <td>1000</td>\n      <td>2018-12-26</td>\n    </tr>\n  </tbody>\n</table>\n</div>"
          },
          "metadata": {}
        }
      ],
      "execution_count": 59
    },
    {
      "cell_type": "code",
      "source": "duplicados_mes = messages.duplicated()\ncantidad_duplicados_mes = duplicados_mes.sum()\nprint(cantidad_duplicados_mes) # Finally, we check the number of duplicate rows in the 'messages' table.",
      "metadata": {
        "trusted": true
      },
      "outputs": [
        {
          "name": "stdout",
          "output_type": "stream",
          "text": "0\n"
        }
      ],
      "execution_count": 60
    },
    {
      "cell_type": "markdown",
      "source": "We see that the SMS sending date should be in 'datetime' format. There are no missing or duplicate values. No anomalies are seen in the data, and the month will be extracted for the purposes of further analysis.",
      "metadata": {}
    },
    {
      "cell_type": "markdown",
      "source": "### Fixing data",
      "metadata": {}
    },
    {
      "cell_type": "code",
      "source": "messages['message_date'] = pd.to_datetime(messages['message_date'], format='%Y-%m-%d')",
      "metadata": {
        "trusted": true
      },
      "outputs": [],
      "execution_count": 61
    },
    {
      "cell_type": "markdown",
      "source": "### 4.8 Enhancing calls Dataset <a id='en4'></a>",
      "metadata": {}
    },
    {
      "cell_type": "code",
      "source": "#We separated the months into a separate column to be able to calculate the SMS messages per month. \nmessages['month'] = messages['message_date'].dt.month",
      "metadata": {
        "trusted": true
      },
      "outputs": [],
      "execution_count": 62
    },
    {
      "cell_type": "code",
      "source": "messages.info() #verifying the changes",
      "metadata": {
        "trusted": true
      },
      "outputs": [
        {
          "name": "stdout",
          "output_type": "stream",
          "text": "<class 'pandas.core.frame.DataFrame'>\nRangeIndex: 76051 entries, 0 to 76050\nData columns (total 4 columns):\n #   Column        Non-Null Count  Dtype         \n---  ------        --------------  -----         \n 0   id            76051 non-null  object        \n 1   user_id       76051 non-null  int64         \n 2   message_date  76051 non-null  datetime64[ns]\n 3   month         76051 non-null  int32         \ndtypes: datetime64[ns](1), int32(1), int64(1), object(1)\nmemory usage: 1.7+ MB\n"
        }
      ],
      "execution_count": 63
    },
    {
      "cell_type": "markdown",
      "source": "### 4.9 Fixing internet Dataset <a id='fix5'></a>",
      "metadata": {}
    },
    {
      "cell_type": "code",
      "source": "# Printing general information of internet dataframe\ninternet.info()",
      "metadata": {
        "trusted": true
      },
      "outputs": [
        {
          "name": "stdout",
          "output_type": "stream",
          "text": "<class 'pandas.core.frame.DataFrame'>\nRangeIndex: 104825 entries, 0 to 104824\nData columns (total 4 columns):\n #   Column        Non-Null Count   Dtype  \n---  ------        --------------   -----  \n 0   id            104825 non-null  object \n 1   user_id       104825 non-null  int64  \n 2   session_date  104825 non-null  object \n 3   mb_used       104825 non-null  float64\ndtypes: float64(1), int64(1), object(2)\nmemory usage: 2.4+ MB\n"
        }
      ],
      "execution_count": 64
    },
    {
      "cell_type": "code",
      "source": "# printing a data sample of internet traffic \ninternet[internet['mb_used']==0]",
      "metadata": {
        "trusted": true
      },
      "outputs": [
        {
          "execution_count": 65,
          "output_type": "execute_result",
          "data": {
            "text/plain": "              id  user_id session_date  mb_used\n1       1000_204     1000   2018-12-31      0.0\n14       1001_26     1001   2018-09-17      0.0\n16       1001_28     1001   2018-10-17      0.0\n34       1001_54     1001   2018-09-02      0.0\n43       1001_77     1001   2018-10-31      0.0\n...          ...      ...          ...      ...\n104797  1499_192     1499   2018-09-19      0.0\n104804  1499_199     1499   2018-12-09      0.0\n104816  1499_211     1499   2018-09-26      0.0\n104817  1499_212     1499   2018-09-11      0.0\n104823  1499_218     1499   2018-12-07      0.0\n\n[13747 rows x 4 columns]",
            "text/html": "<div>\n<style scoped>\n    .dataframe tbody tr th:only-of-type {\n        vertical-align: middle;\n    }\n\n    .dataframe tbody tr th {\n        vertical-align: top;\n    }\n\n    .dataframe thead th {\n        text-align: right;\n    }\n</style>\n<table border=\"1\" class=\"dataframe\">\n  <thead>\n    <tr style=\"text-align: right;\">\n      <th></th>\n      <th>id</th>\n      <th>user_id</th>\n      <th>session_date</th>\n      <th>mb_used</th>\n    </tr>\n  </thead>\n  <tbody>\n    <tr>\n      <th>1</th>\n      <td>1000_204</td>\n      <td>1000</td>\n      <td>2018-12-31</td>\n      <td>0.0</td>\n    </tr>\n    <tr>\n      <th>14</th>\n      <td>1001_26</td>\n      <td>1001</td>\n      <td>2018-09-17</td>\n      <td>0.0</td>\n    </tr>\n    <tr>\n      <th>16</th>\n      <td>1001_28</td>\n      <td>1001</td>\n      <td>2018-10-17</td>\n      <td>0.0</td>\n    </tr>\n    <tr>\n      <th>34</th>\n      <td>1001_54</td>\n      <td>1001</td>\n      <td>2018-09-02</td>\n      <td>0.0</td>\n    </tr>\n    <tr>\n      <th>43</th>\n      <td>1001_77</td>\n      <td>1001</td>\n      <td>2018-10-31</td>\n      <td>0.0</td>\n    </tr>\n    <tr>\n      <th>...</th>\n      <td>...</td>\n      <td>...</td>\n      <td>...</td>\n      <td>...</td>\n    </tr>\n    <tr>\n      <th>104797</th>\n      <td>1499_192</td>\n      <td>1499</td>\n      <td>2018-09-19</td>\n      <td>0.0</td>\n    </tr>\n    <tr>\n      <th>104804</th>\n      <td>1499_199</td>\n      <td>1499</td>\n      <td>2018-12-09</td>\n      <td>0.0</td>\n    </tr>\n    <tr>\n      <th>104816</th>\n      <td>1499_211</td>\n      <td>1499</td>\n      <td>2018-09-26</td>\n      <td>0.0</td>\n    </tr>\n    <tr>\n      <th>104817</th>\n      <td>1499_212</td>\n      <td>1499</td>\n      <td>2018-09-11</td>\n      <td>0.0</td>\n    </tr>\n    <tr>\n      <th>104823</th>\n      <td>1499_218</td>\n      <td>1499</td>\n      <td>2018-12-07</td>\n      <td>0.0</td>\n    </tr>\n  </tbody>\n</table>\n<p>13747 rows × 4 columns</p>\n</div>"
          },
          "metadata": {}
        }
      ],
      "execution_count": 65
    },
    {
      "cell_type": "code",
      "source": "internet.describe() #we check if there are any anomalous data",
      "metadata": {
        "trusted": true
      },
      "outputs": [
        {
          "execution_count": 66,
          "output_type": "execute_result",
          "data": {
            "text/plain": "             user_id        mb_used\ncount  104825.000000  104825.000000\nmean     1242.496361     366.713701\nstd       142.053913     277.170542\nmin      1000.000000       0.000000\n25%      1122.000000     136.080000\n50%      1236.000000     343.980000\n75%      1367.000000     554.610000\nmax      1499.000000    1693.470000",
            "text/html": "<div>\n<style scoped>\n    .dataframe tbody tr th:only-of-type {\n        vertical-align: middle;\n    }\n\n    .dataframe tbody tr th {\n        vertical-align: top;\n    }\n\n    .dataframe thead th {\n        text-align: right;\n    }\n</style>\n<table border=\"1\" class=\"dataframe\">\n  <thead>\n    <tr style=\"text-align: right;\">\n      <th></th>\n      <th>user_id</th>\n      <th>mb_used</th>\n    </tr>\n  </thead>\n  <tbody>\n    <tr>\n      <th>count</th>\n      <td>104825.000000</td>\n      <td>104825.000000</td>\n    </tr>\n    <tr>\n      <th>mean</th>\n      <td>1242.496361</td>\n      <td>366.713701</td>\n    </tr>\n    <tr>\n      <th>std</th>\n      <td>142.053913</td>\n      <td>277.170542</td>\n    </tr>\n    <tr>\n      <th>min</th>\n      <td>1000.000000</td>\n      <td>0.000000</td>\n    </tr>\n    <tr>\n      <th>25%</th>\n      <td>1122.000000</td>\n      <td>136.080000</td>\n    </tr>\n    <tr>\n      <th>50%</th>\n      <td>1236.000000</td>\n      <td>343.980000</td>\n    </tr>\n    <tr>\n      <th>75%</th>\n      <td>1367.000000</td>\n      <td>554.610000</td>\n    </tr>\n    <tr>\n      <th>max</th>\n      <td>1499.000000</td>\n      <td>1693.470000</td>\n    </tr>\n  </tbody>\n</table>\n</div>"
          },
          "metadata": {}
        }
      ],
      "execution_count": 66
    },
    {
      "cell_type": "code",
      "source": "duplicados_int = internet.duplicated()\ncantidad_duplicados_int = duplicados_int.sum()\nprint(cantidad_duplicados_int) # Finally, we check the number of duplicate rows in the 'messages' table.",
      "metadata": {
        "trusted": true
      },
      "outputs": [
        {
          "name": "stdout",
          "output_type": "stream",
          "text": "0\n"
        }
      ],
      "execution_count": 68
    },
    {
      "cell_type": "markdown",
      "source": "We see that the date should be in 'datetime' format. There are no missing or duplicate values. By business policy, individual sessions are required to be rounded up to the total for the month. On the other hand, there are days when the MB used was 0; we will analyse later whether the proportion of 0 values is anomalous or if it can be considered normal within our data group.",
      "metadata": {}
    },
    {
      "cell_type": "code",
      "source": "num_filas = internet.shape[0]\nfila_cero = (internet['mb_used']==0).sum()\nprop_cero = fila_cero / num_filas *100 #percentage of zero values out of the total\nprint(prop_cero)",
      "metadata": {
        "trusted": true
      },
      "outputs": [
        {
          "name": "stdout",
          "output_type": "stream",
          "text": "13.11423801574052\n"
        }
      ],
      "execution_count": 69
    },
    {
      "cell_type": "code",
      "source": "print(internet[internet['mb_used'] != 0]['mb_used'].mean())",
      "metadata": {
        "trusted": true
      },
      "outputs": [
        {
          "name": "stdout",
          "output_type": "stream",
          "text": "422.064205516151\n"
        }
      ],
      "execution_count": 70
    },
    {
      "cell_type": "code",
      "source": "print(internet[internet['mb_used'] != 0]['mb_used'].median())",
      "metadata": {
        "trusted": true
      },
      "outputs": [
        {
          "name": "stdout",
          "output_type": "stream",
          "text": "395.905\n"
        }
      ],
      "execution_count": 71
    },
    {
      "cell_type": "markdown",
      "source": "We can see that the percentage of MB with '0' values is 13.1%, a high value (above 10%) that could suggest an anomaly. On the other hand, the mean and median, without considering those values, hover around 50-100 MB. \nFinally, since we are going to work with values grouped by month, we will not apply changes to the 0MB values and they will be considered as days when the plan's MB were not used.",
      "metadata": {}
    },
    {
      "cell_type": "markdown",
      "source": "### Fixing Data",
      "metadata": {}
    },
    {
      "cell_type": "code",
      "source": "internet['session_date'] = pd.to_datetime(internet['session_date'], format='%Y-%m-%d')",
      "metadata": {
        "trusted": true
      },
      "outputs": [],
      "execution_count": 72
    },
    {
      "cell_type": "markdown",
      "source": "### 4.10 Enhancing internet Dataset <a id='en5'></a>",
      "metadata": {}
    },
    {
      "cell_type": "code",
      "source": "#We separated the months into a separate column to be able to calculate the MB per month. \ninternet['month'] = internet['session_date'].dt.month",
      "metadata": {
        "trusted": true
      },
      "outputs": [],
      "execution_count": 73
    },
    {
      "cell_type": "code",
      "source": "internet.info()",
      "metadata": {
        "scrolled": true,
        "trusted": true
      },
      "outputs": [
        {
          "name": "stdout",
          "output_type": "stream",
          "text": "<class 'pandas.core.frame.DataFrame'>\nRangeIndex: 104825 entries, 0 to 104824\nData columns (total 5 columns):\n #   Column        Non-Null Count   Dtype         \n---  ------        --------------   -----         \n 0   id            104825 non-null  object        \n 1   user_id       104825 non-null  int64         \n 2   session_date  104825 non-null  datetime64[ns]\n 3   mb_used       104825 non-null  float64       \n 4   month         104825 non-null  int32         \ndtypes: datetime64[ns](1), float64(1), int32(1), int64(1), object(1)\nmemory usage: 3.2+ MB\n"
        }
      ],
      "execution_count": 74
    },
    {
      "cell_type": "markdown",
      "source": "The grouping of MB by month will be done later when we cross-reference the corresponding tables.",
      "metadata": {}
    },
    {
      "cell_type": "markdown",
      "source": "## 5. Unifying in one Single Dataset <a id='uni'></a>\n\nNow we will proceed to aggregate and combine the tables based on the 'user_id' and the month in question.",
      "metadata": {}
    },
    {
      "cell_type": "code",
      "source": "# Calculate the number of calls made by each user per month. Save the result. \n\nllamadas_por_mes = calls.groupby(['user_id', 'month'])['user_id'].count().reset_index(name='num_llamadas')\nllamadas_por_mes",
      "metadata": {
        "trusted": true
      },
      "outputs": [
        {
          "execution_count": 76,
          "output_type": "execute_result",
          "data": {
            "text/plain": "      user_id  month  num_llamadas\n0        1000     12            16\n1        1001      8            27\n2        1001      9            49\n3        1001     10            65\n4        1001     11            64\n...       ...    ...           ...\n2253     1498     12            39\n2254     1499      9            41\n2255     1499     10            53\n2256     1499     11            45\n2257     1499     12            65\n\n[2258 rows x 3 columns]",
            "text/html": "<div>\n<style scoped>\n    .dataframe tbody tr th:only-of-type {\n        vertical-align: middle;\n    }\n\n    .dataframe tbody tr th {\n        vertical-align: top;\n    }\n\n    .dataframe thead th {\n        text-align: right;\n    }\n</style>\n<table border=\"1\" class=\"dataframe\">\n  <thead>\n    <tr style=\"text-align: right;\">\n      <th></th>\n      <th>user_id</th>\n      <th>month</th>\n      <th>num_llamadas</th>\n    </tr>\n  </thead>\n  <tbody>\n    <tr>\n      <th>0</th>\n      <td>1000</td>\n      <td>12</td>\n      <td>16</td>\n    </tr>\n    <tr>\n      <th>1</th>\n      <td>1001</td>\n      <td>8</td>\n      <td>27</td>\n    </tr>\n    <tr>\n      <th>2</th>\n      <td>1001</td>\n      <td>9</td>\n      <td>49</td>\n    </tr>\n    <tr>\n      <th>3</th>\n      <td>1001</td>\n      <td>10</td>\n      <td>65</td>\n    </tr>\n    <tr>\n      <th>4</th>\n      <td>1001</td>\n      <td>11</td>\n      <td>64</td>\n    </tr>\n    <tr>\n      <th>...</th>\n      <td>...</td>\n      <td>...</td>\n      <td>...</td>\n    </tr>\n    <tr>\n      <th>2253</th>\n      <td>1498</td>\n      <td>12</td>\n      <td>39</td>\n    </tr>\n    <tr>\n      <th>2254</th>\n      <td>1499</td>\n      <td>9</td>\n      <td>41</td>\n    </tr>\n    <tr>\n      <th>2255</th>\n      <td>1499</td>\n      <td>10</td>\n      <td>53</td>\n    </tr>\n    <tr>\n      <th>2256</th>\n      <td>1499</td>\n      <td>11</td>\n      <td>45</td>\n    </tr>\n    <tr>\n      <th>2257</th>\n      <td>1499</td>\n      <td>12</td>\n      <td>65</td>\n    </tr>\n  </tbody>\n</table>\n<p>2258 rows × 3 columns</p>\n</div>"
          },
          "metadata": {}
        }
      ],
      "execution_count": 76
    },
    {
      "cell_type": "code",
      "source": "# Calculate the amount of minutes each user used per month. Save the result. \nmin_llamadas_por_mes = calls.groupby(['user_id','month'])['duration_fix'].sum().reset_index(name='cant_minutos')\nmin_llamadas_por_mes",
      "metadata": {
        "trusted": true
      },
      "outputs": [
        {
          "execution_count": 77,
          "output_type": "execute_result",
          "data": {
            "text/plain": "      user_id  month  cant_minutos\n0        1000     12         124.0\n1        1001      8         182.0\n2        1001      9         315.0\n3        1001     10         393.0\n4        1001     11         426.0\n...       ...    ...           ...\n2253     1498     12         339.0\n2254     1499      9         346.0\n2255     1499     10         385.0\n2256     1499     11         308.0\n2257     1499     12         496.0\n\n[2258 rows x 3 columns]",
            "text/html": "<div>\n<style scoped>\n    .dataframe tbody tr th:only-of-type {\n        vertical-align: middle;\n    }\n\n    .dataframe tbody tr th {\n        vertical-align: top;\n    }\n\n    .dataframe thead th {\n        text-align: right;\n    }\n</style>\n<table border=\"1\" class=\"dataframe\">\n  <thead>\n    <tr style=\"text-align: right;\">\n      <th></th>\n      <th>user_id</th>\n      <th>month</th>\n      <th>cant_minutos</th>\n    </tr>\n  </thead>\n  <tbody>\n    <tr>\n      <th>0</th>\n      <td>1000</td>\n      <td>12</td>\n      <td>124.0</td>\n    </tr>\n    <tr>\n      <th>1</th>\n      <td>1001</td>\n      <td>8</td>\n      <td>182.0</td>\n    </tr>\n    <tr>\n      <th>2</th>\n      <td>1001</td>\n      <td>9</td>\n      <td>315.0</td>\n    </tr>\n    <tr>\n      <th>3</th>\n      <td>1001</td>\n      <td>10</td>\n      <td>393.0</td>\n    </tr>\n    <tr>\n      <th>4</th>\n      <td>1001</td>\n      <td>11</td>\n      <td>426.0</td>\n    </tr>\n    <tr>\n      <th>...</th>\n      <td>...</td>\n      <td>...</td>\n      <td>...</td>\n    </tr>\n    <tr>\n      <th>2253</th>\n      <td>1498</td>\n      <td>12</td>\n      <td>339.0</td>\n    </tr>\n    <tr>\n      <th>2254</th>\n      <td>1499</td>\n      <td>9</td>\n      <td>346.0</td>\n    </tr>\n    <tr>\n      <th>2255</th>\n      <td>1499</td>\n      <td>10</td>\n      <td>385.0</td>\n    </tr>\n    <tr>\n      <th>2256</th>\n      <td>1499</td>\n      <td>11</td>\n      <td>308.0</td>\n    </tr>\n    <tr>\n      <th>2257</th>\n      <td>1499</td>\n      <td>12</td>\n      <td>496.0</td>\n    </tr>\n  </tbody>\n</table>\n<p>2258 rows × 3 columns</p>\n</div>"
          },
          "metadata": {}
        }
      ],
      "execution_count": 77
    },
    {
      "cell_type": "code",
      "source": "# Calculate the number of messages sent by each user per month. Save the result. \nSMS_por_mes = messages.groupby(['user_id', 'month'])['user_id'].count().reset_index(name='num_mensajes')\nSMS_por_mes",
      "metadata": {
        "trusted": true
      },
      "outputs": [
        {
          "execution_count": 78,
          "output_type": "execute_result",
          "data": {
            "text/plain": "      user_id  month  num_mensajes\n0        1000     12            11\n1        1001      8            30\n2        1001      9            44\n3        1001     10            53\n4        1001     11            36\n...       ...    ...           ...\n1801     1496      9            21\n1802     1496     10            18\n1803     1496     11            13\n1804     1496     12            11\n1805     1497     12            50\n\n[1806 rows x 3 columns]",
            "text/html": "<div>\n<style scoped>\n    .dataframe tbody tr th:only-of-type {\n        vertical-align: middle;\n    }\n\n    .dataframe tbody tr th {\n        vertical-align: top;\n    }\n\n    .dataframe thead th {\n        text-align: right;\n    }\n</style>\n<table border=\"1\" class=\"dataframe\">\n  <thead>\n    <tr style=\"text-align: right;\">\n      <th></th>\n      <th>user_id</th>\n      <th>month</th>\n      <th>num_mensajes</th>\n    </tr>\n  </thead>\n  <tbody>\n    <tr>\n      <th>0</th>\n      <td>1000</td>\n      <td>12</td>\n      <td>11</td>\n    </tr>\n    <tr>\n      <th>1</th>\n      <td>1001</td>\n      <td>8</td>\n      <td>30</td>\n    </tr>\n    <tr>\n      <th>2</th>\n      <td>1001</td>\n      <td>9</td>\n      <td>44</td>\n    </tr>\n    <tr>\n      <th>3</th>\n      <td>1001</td>\n      <td>10</td>\n      <td>53</td>\n    </tr>\n    <tr>\n      <th>4</th>\n      <td>1001</td>\n      <td>11</td>\n      <td>36</td>\n    </tr>\n    <tr>\n      <th>...</th>\n      <td>...</td>\n      <td>...</td>\n      <td>...</td>\n    </tr>\n    <tr>\n      <th>1801</th>\n      <td>1496</td>\n      <td>9</td>\n      <td>21</td>\n    </tr>\n    <tr>\n      <th>1802</th>\n      <td>1496</td>\n      <td>10</td>\n      <td>18</td>\n    </tr>\n    <tr>\n      <th>1803</th>\n      <td>1496</td>\n      <td>11</td>\n      <td>13</td>\n    </tr>\n    <tr>\n      <th>1804</th>\n      <td>1496</td>\n      <td>12</td>\n      <td>11</td>\n    </tr>\n    <tr>\n      <th>1805</th>\n      <td>1497</td>\n      <td>12</td>\n      <td>50</td>\n    </tr>\n  </tbody>\n</table>\n<p>1806 rows × 3 columns</p>\n</div>"
          },
          "metadata": {}
        }
      ],
      "execution_count": 78
    },
    {
      "cell_type": "code",
      "source": "# Calculate the volume of internet traffic used by each user per month. Store the result. \nmb_por_mes = internet.groupby(['user_id','month'])['mb_used'].sum().reset_index(name='vol_trafico_internet')\nmb_por_mes",
      "metadata": {
        "scrolled": true,
        "trusted": true
      },
      "outputs": [
        {
          "execution_count": 79,
          "output_type": "execute_result",
          "data": {
            "text/plain": "      user_id  month  vol_trafico_internet\n0        1000     12               1901.47\n1        1001      8               6919.15\n2        1001      9              13314.82\n3        1001     10              22330.49\n4        1001     11              18504.30\n...       ...    ...                   ...\n2272     1498     12              23137.69\n2273     1499      9              12984.76\n2274     1499     10              19492.43\n2275     1499     11              16813.83\n2276     1499     12              22059.21\n\n[2277 rows x 3 columns]",
            "text/html": "<div>\n<style scoped>\n    .dataframe tbody tr th:only-of-type {\n        vertical-align: middle;\n    }\n\n    .dataframe tbody tr th {\n        vertical-align: top;\n    }\n\n    .dataframe thead th {\n        text-align: right;\n    }\n</style>\n<table border=\"1\" class=\"dataframe\">\n  <thead>\n    <tr style=\"text-align: right;\">\n      <th></th>\n      <th>user_id</th>\n      <th>month</th>\n      <th>vol_trafico_internet</th>\n    </tr>\n  </thead>\n  <tbody>\n    <tr>\n      <th>0</th>\n      <td>1000</td>\n      <td>12</td>\n      <td>1901.47</td>\n    </tr>\n    <tr>\n      <th>1</th>\n      <td>1001</td>\n      <td>8</td>\n      <td>6919.15</td>\n    </tr>\n    <tr>\n      <th>2</th>\n      <td>1001</td>\n      <td>9</td>\n      <td>13314.82</td>\n    </tr>\n    <tr>\n      <th>3</th>\n      <td>1001</td>\n      <td>10</td>\n      <td>22330.49</td>\n    </tr>\n    <tr>\n      <th>4</th>\n      <td>1001</td>\n      <td>11</td>\n      <td>18504.30</td>\n    </tr>\n    <tr>\n      <th>...</th>\n      <td>...</td>\n      <td>...</td>\n      <td>...</td>\n    </tr>\n    <tr>\n      <th>2272</th>\n      <td>1498</td>\n      <td>12</td>\n      <td>23137.69</td>\n    </tr>\n    <tr>\n      <th>2273</th>\n      <td>1499</td>\n      <td>9</td>\n      <td>12984.76</td>\n    </tr>\n    <tr>\n      <th>2274</th>\n      <td>1499</td>\n      <td>10</td>\n      <td>19492.43</td>\n    </tr>\n    <tr>\n      <th>2275</th>\n      <td>1499</td>\n      <td>11</td>\n      <td>16813.83</td>\n    </tr>\n    <tr>\n      <th>2276</th>\n      <td>1499</td>\n      <td>12</td>\n      <td>22059.21</td>\n    </tr>\n  </tbody>\n</table>\n<p>2277 rows × 3 columns</p>\n</div>"
          },
          "metadata": {}
        }
      ],
      "execution_count": 79
    },
    {
      "cell_type": "markdown",
      "source": "Next, we will proceed to group the previous tables so that there is a single record per user and per month.",
      "metadata": {}
    },
    {
      "cell_type": "code",
      "source": "# Combines the data for calls, minutes, messages and internet based on the user_id and month\n\n# Merge the DataFrames for calls and minutes\nmerged_data = llamadas_por_mes.merge(min_llamadas_por_mes, on=['user_id', 'month'], how='outer')\n# Merge the resulting DataFrames with the message DataFrame\nmerged_data = merged_data.merge(SMS_por_mes, on=['user_id','month'], how='outer')\n# Merge the resulting DataFrames with the Internet DataFrame\nmerged_data = merged_data.merge(mb_por_mes, on=['user_id', 'month'], how='outer')\n\nprint(merged_data[merged_data['user_id']==1022]) #Mostramos una muestra de la nueva tabla unica.",
      "metadata": {
        "trusted": true
      },
      "outputs": [
        {
          "name": "stdout",
          "output_type": "stream",
          "text": "    user_id  month  num_llamadas  cant_minutos  num_mensajes  \\\n75     1022      5          39.0         302.0           NaN   \n76     1022      6          76.0         490.0           NaN   \n77     1022      7          70.0         475.0           NaN   \n78     1022      8          80.0         631.0           NaN   \n79     1022      9          66.0         510.0           NaN   \n80     1022     10          83.0         574.0           NaN   \n81     1022     11          72.0         498.0           NaN   \n82     1022     12          82.0         585.0           NaN   \n\n    vol_trafico_internet  \n75               4908.08  \n76              23436.48  \n77               9933.15  \n78              21325.33  \n79              14118.23  \n80              18961.41  \n81              22204.48  \n82              18283.62  \n"
        }
      ],
      "execution_count": 80
    },
    {
      "cell_type": "code",
      "source": "#We combine the resulting Dataframes with the user information to obtain the plans for each user_id.\nmerged_data_users = merged_data.merge(users[['user_id','plan_name','month_reg','month_churn','vigencia','regiones']], on=['user_id'], how='outer')\nmerged_data_users.info()",
      "metadata": {
        "scrolled": true,
        "trusted": true
      },
      "outputs": [
        {
          "name": "stdout",
          "output_type": "stream",
          "text": "<class 'pandas.core.frame.DataFrame'>\nRangeIndex: 2303 entries, 0 to 2302\nData columns (total 11 columns):\n #   Column                Non-Null Count  Dtype  \n---  ------                --------------  -----  \n 0   user_id               2303 non-null   int64  \n 1   month                 2293 non-null   float64\n 2   num_llamadas          2258 non-null   float64\n 3   cant_minutos          2258 non-null   float64\n 4   num_mensajes          1806 non-null   float64\n 5   vol_trafico_internet  2277 non-null   float64\n 6   plan_name             2303 non-null   object \n 7   month_reg             2303 non-null   int32  \n 8   month_churn           160 non-null    float64\n 9   vigencia              2303 non-null   int64  \n 10  regiones              2303 non-null   object \ndtypes: float64(6), int32(1), int64(2), object(2)\nmemory usage: 171.0+ KB\n"
        }
      ],
      "execution_count": 81
    },
    {
      "cell_type": "code",
      "source": "# Add plan information\n#Combine the above dataframe and add the pricing information from the plan information.\nmerged_data_complete = merged_data_users.merge(plans, on=['plan_name'], how='outer')\n\nmerged_data_complete.info()",
      "metadata": {
        "scrolled": true,
        "trusted": true
      },
      "outputs": [
        {
          "name": "stdout",
          "output_type": "stream",
          "text": "<class 'pandas.core.frame.DataFrame'>\nRangeIndex: 2303 entries, 0 to 2302\nData columns (total 19 columns):\n #   Column                 Non-Null Count  Dtype  \n---  ------                 --------------  -----  \n 0   user_id                2303 non-null   int64  \n 1   month                  2293 non-null   float64\n 2   num_llamadas           2258 non-null   float64\n 3   cant_minutos           2258 non-null   float64\n 4   num_mensajes           1806 non-null   float64\n 5   vol_trafico_internet   2277 non-null   float64\n 6   plan_name              2303 non-null   object \n 7   month_reg              2303 non-null   int32  \n 8   month_churn            160 non-null    float64\n 9   vigencia               2303 non-null   int64  \n 10  regiones               2303 non-null   object \n 11  messages_included      2303 non-null   int64  \n 12  mb_per_month_included  2303 non-null   float64\n 13  minutes_included       2303 non-null   float64\n 14  usd_monthly_pay        2303 non-null   float64\n 15  usd_per_gb             2303 non-null   float64\n 16  usd_per_message        2303 non-null   float64\n 17  usd_per_minute         2303 non-null   float64\n 18  gb_per_month_included  2303 non-null   float64\ndtypes: float64(13), int32(1), int64(3), object(2)\nmemory usage: 314.9+ KB\n"
        }
      ],
      "execution_count": 82
    },
    {
      "cell_type": "code",
      "source": "#We applied a filter on the plan's validity dates to calculate the revenues generated during the use of the SURF and ULTIMATE services. \nmerged_data_completed = merged_data_complete.query('(month_reg <= month <= month_churn) | (vigencia == 1)')\n\nmerged_data_completed.info() #Verifying the final result",
      "metadata": {
        "trusted": true
      },
      "outputs": [
        {
          "name": "stdout",
          "output_type": "stream",
          "text": "<class 'pandas.core.frame.DataFrame'>\nIndex: 2264 entries, 0 to 2302\nData columns (total 19 columns):\n #   Column                 Non-Null Count  Dtype  \n---  ------                 --------------  -----  \n 0   user_id                2264 non-null   int64  \n 1   month                  2256 non-null   float64\n 2   num_llamadas           2221 non-null   float64\n 3   cant_minutos           2221 non-null   float64\n 4   num_mensajes           1777 non-null   float64\n 5   vol_trafico_internet   2240 non-null   float64\n 6   plan_name              2264 non-null   object \n 7   month_reg              2264 non-null   int32  \n 8   month_churn            121 non-null    float64\n 9   vigencia               2264 non-null   int64  \n 10  regiones               2264 non-null   object \n 11  messages_included      2264 non-null   int64  \n 12  mb_per_month_included  2264 non-null   float64\n 13  minutes_included       2264 non-null   float64\n 14  usd_monthly_pay        2264 non-null   float64\n 15  usd_per_gb             2264 non-null   float64\n 16  usd_per_message        2264 non-null   float64\n 17  usd_per_minute         2264 non-null   float64\n 18  gb_per_month_included  2264 non-null   float64\ndtypes: float64(13), int32(1), int64(3), object(2)\nmemory usage: 327.2+ KB\n"
        }
      ],
      "execution_count": 83
    },
    {
      "cell_type": "markdown",
      "source": "We see that the 'final' table, which comes from the merging and filtering of the various tables containing information on: calls, users, messages, internet, plans, has some missing values, which is normal after merging these tables, even though we previously ensured that each table did not have missing values. Next, we will fill in those missing values except for 'month_churn' since it was complemented with the 'vigencia' variable.",
      "metadata": {}
    },
    {
      "cell_type": "code",
      "source": "#We added a function for calculating means and medians to complete the missing values in the resulting table \nimport pandas as pd\n\ndef imputar_media_mediana(data, columna, usar_media=True, redondear=True):\n    if usar_media:\n        valor_imputacion = data[columna].mean()\n        if redondear:\n                valor_imputacion = round(valor_imputacion)\n    else:\n        valor_imputacion = data[columna].median()\n\n    data[columna].fillna(valor_imputacion, inplace=True)\n\n# column and configuration list\ncolumnas_a_imputar = [\n    ('month', True, True),\n    ('num_llamadas', True, True),\n    ('cant_minutos', True, True),\n    ('num_mensajes', False, True),\n    ('vol_trafico_internet', False, False)\n]",
      "metadata": {
        "trusted": true
      },
      "outputs": [],
      "execution_count": 84
    },
    {
      "cell_type": "code",
      "source": "# Iterate over the columns and call the imputation function \nfor columna, usar_media, redondear in columnas_a_imputar:\n    imputar_media_mediana(merged_data_completed, columna, usar_media, redondear)",
      "metadata": {
        "scrolled": true,
        "trusted": true
      },
      "outputs": [
        {
          "name": "stderr",
          "output_type": "stream",
          "text": "<ipython-input-84-bf69cbd9c1a1>:12: FutureWarning: A value is trying to be set on a copy of a DataFrame or Series through chained assignment using an inplace method.\nThe behavior will change in pandas 3.0. This inplace method will never work because the intermediate object on which we are setting values always behaves as a copy.\n\nFor example, when doing 'df[col].method(value, inplace=True)', try using 'df.method({col: value}, inplace=True)' or df[col] = df[col].method(value) instead, to perform the operation inplace on the original object.\n\n\n  data[columna].fillna(valor_imputacion, inplace=True)\n<ipython-input-84-bf69cbd9c1a1>:12: SettingWithCopyWarning: \nA value is trying to be set on a copy of a slice from a DataFrame\n\nSee the caveats in the documentation: https://pandas.pydata.org/pandas-docs/stable/user_guide/indexing.html#returning-a-view-versus-a-copy\n  data[columna].fillna(valor_imputacion, inplace=True)\n<ipython-input-84-bf69cbd9c1a1>:12: FutureWarning: A value is trying to be set on a copy of a DataFrame or Series through chained assignment using an inplace method.\nThe behavior will change in pandas 3.0. This inplace method will never work because the intermediate object on which we are setting values always behaves as a copy.\n\nFor example, when doing 'df[col].method(value, inplace=True)', try using 'df.method({col: value}, inplace=True)' or df[col] = df[col].method(value) instead, to perform the operation inplace on the original object.\n\n\n  data[columna].fillna(valor_imputacion, inplace=True)\n<ipython-input-84-bf69cbd9c1a1>:12: SettingWithCopyWarning: \nA value is trying to be set on a copy of a slice from a DataFrame\n\nSee the caveats in the documentation: https://pandas.pydata.org/pandas-docs/stable/user_guide/indexing.html#returning-a-view-versus-a-copy\n  data[columna].fillna(valor_imputacion, inplace=True)\n<ipython-input-84-bf69cbd9c1a1>:12: FutureWarning: A value is trying to be set on a copy of a DataFrame or Series through chained assignment using an inplace method.\nThe behavior will change in pandas 3.0. This inplace method will never work because the intermediate object on which we are setting values always behaves as a copy.\n\nFor example, when doing 'df[col].method(value, inplace=True)', try using 'df.method({col: value}, inplace=True)' or df[col] = df[col].method(value) instead, to perform the operation inplace on the original object.\n\n\n  data[columna].fillna(valor_imputacion, inplace=True)\n<ipython-input-84-bf69cbd9c1a1>:12: SettingWithCopyWarning: \nA value is trying to be set on a copy of a slice from a DataFrame\n\nSee the caveats in the documentation: https://pandas.pydata.org/pandas-docs/stable/user_guide/indexing.html#returning-a-view-versus-a-copy\n  data[columna].fillna(valor_imputacion, inplace=True)\n"
        }
      ],
      "execution_count": 87
    },
    {
      "cell_type": "code",
      "source": "#Testing the completeness of missing values with one of the variables \nmerged_data_completed['month'].unique() ",
      "metadata": {
        "trusted": true
      },
      "outputs": [
        {
          "execution_count": 88,
          "output_type": "execute_result",
          "data": {
            "text/plain": "array([ 8.,  9., 10., 11., 12.,  5.,  6.,  7.,  3.,  4.,  1.,  2.])"
          },
          "metadata": {}
        }
      ],
      "execution_count": 88
    },
    {
      "cell_type": "code",
      "source": "merged_data_completed.info() #Checking there are not more missing values",
      "metadata": {
        "scrolled": true,
        "trusted": true
      },
      "outputs": [
        {
          "name": "stdout",
          "output_type": "stream",
          "text": "<class 'pandas.core.frame.DataFrame'>\nIndex: 2264 entries, 0 to 2302\nData columns (total 19 columns):\n #   Column                 Non-Null Count  Dtype  \n---  ------                 --------------  -----  \n 0   user_id                2264 non-null   int64  \n 1   month                  2264 non-null   float64\n 2   num_llamadas           2264 non-null   float64\n 3   cant_minutos           2264 non-null   float64\n 4   num_mensajes           2264 non-null   float64\n 5   vol_trafico_internet   2264 non-null   float64\n 6   plan_name              2264 non-null   object \n 7   month_reg              2264 non-null   int32  \n 8   month_churn            121 non-null    float64\n 9   vigencia               2264 non-null   int64  \n 10  regiones               2264 non-null   object \n 11  messages_included      2264 non-null   int64  \n 12  mb_per_month_included  2264 non-null   float64\n 13  minutes_included       2264 non-null   float64\n 14  usd_monthly_pay        2264 non-null   float64\n 15  usd_per_gb             2264 non-null   float64\n 16  usd_per_message        2264 non-null   float64\n 17  usd_per_minute         2264 non-null   float64\n 18  gb_per_month_included  2264 non-null   float64\ndtypes: float64(13), int32(1), int64(3), object(2)\nmemory usage: 327.2+ KB\n"
        }
      ],
      "execution_count": 89
    },
    {
      "cell_type": "markdown",
      "source": "We confirm that there are no missing values and it was supplemented with the mean and/or median of each of the respective columns, given that the missing values were very low.",
      "metadata": {}
    },
    {
      "cell_type": "markdown",
      "source": "Now we will proceed to calculate the monthly income in detail.",
      "metadata": {}
    },
    {
      "cell_type": "code",
      "source": "# Copy the DataFrame to avoid SettingWithCopyWarning\nmerged_data_completed = merged_data_completed.copy()\n\n# Calculate the excess calls\nmerged_data_completed['exceso_llamadas'] = merged_data_completed['cant_minutos'] - merged_data_completed['minutes_included']\n\n# Calculate the excess SMS\nmerged_data_completed['exceso_SMS'] = merged_data_completed['num_mensajes'] - merged_data_completed['messages_included']\n\n# # Calculate the excess of data (GB)\nmerged_data_completed['exceso_datos_GB'] = np.ceil((merged_data_completed['vol_trafico_internet'] - merged_data_completed['mb_per_month_included']) / 1024)  # Convertir MB a GB\n\n# Calculate the cost of call, SMS and data overage\n\n# Create the column ‘cost_excess_calls’ before assigning values to it\nmerged_data_completed['costo_exceso_llamadas'] = 0  # Initiating the column with 0\n\n# Calculate the cost per call usage (overflow)\nmask = merged_data_completed['exceso_llamadas'] > 0\nmerged_data_completed.loc[mask, 'costo_exceso_llamadas'] = merged_data_completed['exceso_llamadas'] * merged_data_completed['usd_per_minute']\n\n# Creating the column 'costo_exceso_SMS' before assigning values\nmerged_data_completed['costo_exceso_SMS'] = 0  # Initiating the column with 0\n\n# We calculate the cost per SMS usage (excess)\nmask2 = merged_data_completed['exceso_SMS'] > 0\nmerged_data_completed.loc[mask2, 'costo_exceso_SMS'] = merged_data_completed['exceso_SMS'] * merged_data_completed['usd_per_message']\n\n# We create the column 'costo_exceso_datos' before assigning values to it.\nmerged_data_completed['costo_exceso_datos'] = 0  # Inicializamos la columna con 0\n\n# We calculate the cost per data usage (excess)\nmask3 = merged_data_completed['exceso_datos_GB'] > 0\nmerged_data_completed.loc[mask3, 'costo_exceso_datos'] = merged_data_completed['exceso_datos_GB'] * merged_data_completed['usd_per_gb']",
      "metadata": {
        "trusted": true
      },
      "outputs": [
        {
          "name": "stderr",
          "output_type": "stream",
          "text": "<ipython-input-91-1e827b7de2cc>:20: FutureWarning: Setting an item of incompatible dtype is deprecated and will raise an error in a future version of pandas. Value '[1.812e+01 4.350e+00 7.200e-01 3.510e+00 1.020e+00 9.690e+00 1.140e+01\n 6.930e+00 8.280e+00 7.200e+00 6.420e+00 7.680e+00 4.680e+00 9.600e-01\n 1.590e+00 5.940e+00 4.110e+00 3.030e+00 6.330e+00 1.842e+01 4.470e+00\n 1.011e+01 4.080e+00 3.930e+00 3.000e-01 1.920e+00 7.890e+00 5.760e+00\n 4.140e+00 3.960e+00 3.810e+00 2.010e+00 3.690e+00 2.700e-01 2.100e-01\n 6.600e-01 2.280e+00 4.320e+00 2.100e+01 3.300e-01 1.980e+00 4.380e+00\n 4.740e+00 5.550e+00 2.280e+00 8.820e+00 3.960e+00 1.890e+00 4.320e+00\n 8.400e-01 6.690e+00 3.780e+00 4.200e-01 3.000e-01 2.460e+00 6.300e-01\n 1.260e+00 3.900e+00 2.280e+00 3.420e+00 1.023e+01 4.080e+00 6.960e+00\n 5.610e+00 1.017e+01 6.150e+00 4.950e+00 1.470e+00 5.400e+00 3.510e+00\n 3.150e+00 4.110e+00 7.230e+00 8.100e-01 1.182e+01 3.420e+00 1.386e+01\n 7.170e+00 6.330e+00 5.850e+00 3.720e+00 9.360e+00 1.500e+00 4.320e+00\n 6.840e+00 8.400e-01 3.600e-01 4.500e-01 6.570e+00 1.320e+00 1.017e+01\n 1.113e+01 1.800e-01 3.090e+00 2.790e+00 1.200e-01 1.860e+00 2.160e+00\n 6.900e-01 4.200e-01 3.060e+00 1.110e+00 7.140e+00 3.990e+00 6.750e+00\n 4.890e+00 8.160e+00 1.149e+01 9.000e-02 1.227e+01 9.000e-02 3.000e-02\n 1.830e+00 1.560e+00 3.600e+00 6.480e+00 5.100e-01 7.500e-01 2.580e+00\n 2.100e-01 9.000e-01 1.470e+00 9.120e+00 2.310e+00 6.750e+00 1.107e+01\n 8.580e+00 5.370e+00 1.020e+01 1.707e+01 9.180e+00 1.107e+01 5.700e-01\n 7.770e+00 4.230e+00 8.610e+00 1.440e+01 1.920e+00 5.070e+00 9.240e+00\n 1.359e+01 3.300e+00 1.500e-01 2.940e+00 3.000e-02 4.650e+00 6.390e+00\n 4.170e+00 7.230e+00 3.510e+00 5.460e+00 2.460e+00 9.060e+00 4.770e+00\n 3.900e+00 6.000e-02 2.880e+00 9.600e-01 4.350e+00 9.000e-01 2.400e-01\n 3.780e+00 1.770e+00 3.030e+00 4.260e+00 5.400e+00 5.460e+00 8.100e-01\n 3.060e+00 4.380e+00 2.640e+00 2.430e+00 4.200e+00 4.020e+00 3.360e+00\n 1.005e+01 1.185e+01 6.360e+00 1.128e+01 4.350e+00 5.100e-01 3.630e+00\n 3.000e-02 4.080e+00 4.860e+00 1.440e+00 2.160e+00 5.880e+00 3.360e+00\n 4.500e+00 6.090e+00 6.540e+00 3.270e+00 1.350e+00 2.820e+00 4.800e-01\n 3.450e+00 2.340e+00 6.300e+00 2.730e+00 4.200e+00 3.450e+00 3.600e-01\n 5.310e+00 2.880e+00 2.040e+00 3.780e+00 3.780e+00 1.950e+00 6.300e-01\n 4.680e+00 6.390e+00 2.760e+00 2.370e+00 3.360e+00 5.640e+00 3.330e+00\n 6.630e+00 3.060e+00 8.640e+00 3.150e+00 4.500e-01 3.810e+00 2.040e+00\n 2.610e+00 1.860e+00 5.100e+00 1.500e-01 6.900e+00 8.910e+00 6.990e+00\n 5.460e+00 6.000e-01 1.800e+00 1.440e+00 1.197e+01 5.970e+00 2.001e+01\n 8.400e-01 4.500e+00 2.310e+00 3.450e+00 6.360e+00 5.730e+00 4.170e+00\n 2.100e+00 2.070e+00 4.020e+00 5.970e+00 7.800e-01 1.950e+00 5.160e+00\n 3.540e+00 4.110e+00 4.050e+00 7.290e+00 4.470e+00 5.700e+00 1.770e+00\n 1.380e+00 3.510e+00 1.500e-01 2.370e+00 4.050e+00 6.600e-01 5.340e+00\n 4.410e+00 4.200e-01 2.430e+00 4.530e+00 2.028e+01 1.785e+01 2.136e+01\n 2.082e+01 1.557e+01 1.857e+01 7.080e+00 3.270e+00 2.460e+00 1.398e+01\n 2.010e+00 2.700e+00 3.420e+00 1.110e+00 4.560e+00 1.500e+00 2.670e+00\n 1.230e+00 1.170e+00 1.920e+00 9.300e-01 3.120e+00 9.000e-01 7.350e+00\n 3.180e+00 6.000e-01 3.600e-01 2.700e+00 3.330e+00 7.410e+00 4.230e+00\n 1.200e-01 6.000e-02 9.900e-01 3.900e-01 3.810e+00 3.030e+00 1.860e+00\n 2.370e+00 4.290e+00 1.800e+00 6.990e+00 3.120e+00 1.650e+00 1.500e-01\n 2.730e+00 2.100e+00 3.030e+01 3.510e+00 1.950e+00 6.300e-01 4.770e+00\n 9.300e-01 3.870e+00 8.730e+00 5.340e+00 7.140e+00 4.860e+00 9.720e+00\n 7.080e+00 7.200e+00 6.210e+00 2.520e+00 3.300e+00 5.760e+00 3.090e+00\n 7.200e+00 1.830e+00 6.810e+00 7.740e+00 1.395e+01 2.700e-01 1.740e+00\n 5.130e+00 4.260e+00 3.420e+00 5.430e+00 5.100e-01 3.780e+00 8.700e-01\n 2.400e+00 1.320e+00 3.720e+00 2.580e+00 3.540e+00 3.600e-01 3.570e+00\n 2.700e+00 1.230e+00 3.540e+00 4.800e-01 6.300e-01 1.080e+00 3.420e+00\n 1.020e+00 6.060e+00 2.220e+00 1.920e+00 5.760e+00 4.200e+00 1.068e+01\n 1.104e+01 1.116e+01 1.128e+01 1.155e+01 9.690e+00 1.374e+01 1.710e+01\n 1.890e+00 2.430e+00 5.700e-01 1.629e+01 1.539e+01 1.599e+01 1.449e+01\n 1.554e+01 1.488e+01 1.674e+01 2.412e+01 1.641e+01 1.800e+00 1.587e+01\n 1.020e+01 1.068e+01 1.509e+01 1.653e+01 1.950e+00 2.580e+00 9.900e+00\n 1.080e+01 1.209e+01 3.000e+00 4.740e+00 9.570e+00 8.910e+00 1.119e+01\n 8.850e+00 1.665e+01 1.830e+00 1.440e+01 1.092e+01 1.008e+01 9.240e+00\n 1.563e+01 1.698e+01 8.100e-01 2.490e+00 1.050e+00 2.610e+00 1.323e+01\n 1.158e+01 2.520e+00 1.500e+00 6.840e+00 7.680e+00 6.060e+00 6.000e+00\n 2.970e+00 4.350e+00 8.580e+00 6.600e-01 4.650e+00 7.800e-01 5.700e+00\n 5.220e+00 5.700e-01 2.820e+00 9.000e-01 7.710e+00 8.370e+00 6.090e+00\n 3.360e+00 2.460e+00 1.350e+00 4.800e+00 1.680e+00 1.170e+00 8.400e-01\n 1.500e-01 9.600e-01 9.420e+00 1.500e-01 9.330e+00 8.640e+00 4.290e+00\n 2.820e+00 9.000e-02 1.365e+01 4.800e+00 3.600e+00 4.770e+00 6.630e+00\n 4.590e+00 1.746e+01 1.806e+01 1.893e+01 2.181e+01 1.797e+01 2.571e+01\n 3.240e+00 4.530e+00 4.680e+00 5.550e+00 2.370e+00 1.809e+01 6.000e-02\n 4.200e-01 3.600e+00 1.410e+00 1.380e+00 1.890e+00 3.900e-01 3.000e-01\n 4.620e+00 1.080e+01 1.164e+01 9.060e+00 1.335e+01 9.000e+00 9.900e+00\n 9.240e+00 3.690e+00 1.335e+01 1.800e-01 8.700e-01 3.030e+00 2.280e+00\n 2.430e+00 8.400e-01 3.780e+00 5.040e+00 2.700e+00 1.590e+00 7.800e-01\n 6.600e-01 1.740e+00 2.730e+00 6.000e-02 1.620e+00 2.610e+00 1.470e+00\n 9.900e-01 1.005e+01 3.600e+00 4.500e+00 2.280e+00 5.100e+00 4.200e-01\n 6.000e-01 7.320e+00 6.420e+00 5.280e+00 5.940e+00 5.970e+00 1.860e+00\n 8.610e+00 3.540e+00 8.160e+00 2.760e+00 9.900e-01 9.300e-01 3.870e+00\n 2.400e-01 1.950e+00 7.200e-01 2.400e+00 3.960e+00 2.760e+00 3.300e+00\n 4.830e+00 4.290e+00 2.160e+00 2.220e+00 1.788e+01 1.230e+00 5.370e+00\n 6.300e+00 3.780e+00 5.640e+00 4.170e+00 7.200e+00 8.850e+00 6.630e+00\n 5.400e-01 3.480e+00 2.700e-01 3.300e+00]' has dtype incompatible with int64, please explicitly cast to a compatible dtype first.\n  merged_data_completed.loc[mask, 'costo_exceso_llamadas'] = merged_data_completed['exceso_llamadas'] * merged_data_completed['usd_per_minute']\n<ipython-input-91-1e827b7de2cc>:27: FutureWarning: Setting an item of incompatible dtype is deprecated and will raise an error in a future version of pandas. Value '[0.09 0.03 0.27 0.42 0.54 2.34 0.48 0.03 0.3  0.06 6.48 0.54 0.87 1.32\n 0.72 0.66 1.35 0.84 0.48 0.72 0.57 0.99 0.93 0.42 0.03 3.18 2.85 3.27\n 2.67 2.46 0.63 1.41 0.63 0.48 1.02 0.42 0.27 0.33 1.29 0.03 1.47 1.17\n 1.17 1.44 0.42 0.69 0.93 0.6  0.48 1.68 0.84 0.84 0.45 1.05 1.29 1.62\n 0.72 0.33 0.27 0.69 0.09 1.71 0.87 1.26 0.84 1.35 1.17 0.84 1.35 2.07\n 1.65 2.34 2.49 0.09 0.15 1.41 0.12 0.03 1.26 1.17 1.62 0.27 0.42 0.18\n 0.18 0.84 0.75 0.15 0.63 0.42 0.33 1.08 1.77 0.78 0.21 0.3  0.39 0.21\n 0.27 0.06 0.06 1.8  2.07 2.04 1.08 0.39 0.12 0.48 0.96 0.75 0.75 0.48\n 0.87 0.99 0.78 0.42 0.78 0.78 1.71 1.41 0.06 0.03 0.69 0.24 0.15 0.21\n 0.42 0.78 1.14 0.36 0.18 2.07 2.13 2.19 0.09 0.39 0.24 0.06 0.03 0.45\n 0.12 1.38 1.26 1.44 0.48 0.36 0.42 1.56 1.68 1.86 1.68 1.23 1.8  0.15\n 0.9  0.12 0.06 0.21 0.21 2.25 0.99 0.27 0.45 0.18 0.15 0.15 1.23 2.13\n 1.38 1.11 1.8  1.17 2.19 1.59 0.72 0.54 0.51 0.33 0.33 0.3  0.33 0.27\n 0.48 0.6  0.6  0.06 0.24 0.54 0.3  0.3  0.66 0.42 2.1  2.22 2.22 2.1\n 3.09 2.79 2.4  1.98 2.85 0.63 0.72 0.99 1.11 1.11 2.97 2.46 3.42 2.67\n 3.09 3.21 3.   3.54 1.14 1.47 1.05 0.93 1.11 1.2  1.47 1.65 0.87 1.5\n 1.26 1.17 0.42 1.14 1.02 0.99 0.72 0.9  0.84 0.81 0.36 0.42 0.27 0.63\n 0.84 0.78 1.2  0.72 0.72 1.08 0.45 0.36 0.48 0.75 0.6  1.62 2.61 2.52\n 1.95 0.18 0.78 0.66 0.33 1.23 1.5  1.23 0.03 0.24 0.27 0.45 0.36 0.15\n 0.63 0.09 0.57 0.15 0.36 0.06 0.09 1.86 0.12 0.51 0.48 0.39 0.63 0.33\n 0.9  0.9  0.99 0.93 2.28 0.39 5.22 3.9  3.21 0.15 0.36 0.09 0.3  0.36\n 0.39 0.54 2.82 0.51 1.11 0.33 0.09 0.15 0.15 0.57 0.27 0.6  0.51 0.81\n 0.6  0.33 0.09 0.12 0.09 0.54 0.63 0.15 0.27 0.54 0.03 2.49 2.91 2.73\n 2.4  2.85 3.18 3.09 0.03 0.99 0.27 1.02 1.23 1.08 0.12 0.42]' has dtype incompatible with int64, please explicitly cast to a compatible dtype first.\n  merged_data_completed.loc[mask2, 'costo_exceso_SMS'] = merged_data_completed['exceso_SMS'] * merged_data_completed['usd_per_message']\n"
        }
      ],
      "execution_count": 91
    },
    {
      "cell_type": "code",
      "source": "# Calculate the monthly income for each user.\nmerged_data_completed['ingresos_mensuales'] =  merged_data_completed['usd_monthly_pay'] + merged_data_completed['costo_exceso_llamadas'] + merged_data_completed['costo_exceso_SMS'] + merged_data_completed['costo_exceso_datos']",
      "metadata": {
        "trusted": true
      },
      "outputs": [],
      "execution_count": 92
    },
    {
      "cell_type": "code",
      "source": "# Show the DataFrame with the calculated monthly income \nmerged_data_completed[['user_id', 'month', 'ingresos_mensuales']]",
      "metadata": {
        "scrolled": true,
        "trusted": true
      },
      "outputs": [
        {
          "execution_count": 93,
          "output_type": "execute_result",
          "data": {
            "text/plain": "      user_id  month  ingresos_mensuales\n0        1001    8.0               20.00\n1        1001    9.0               20.00\n2        1001   10.0               90.09\n3        1001   11.0               60.00\n4        1001   12.0               60.00\n...       ...    ...                 ...\n2298     1493    9.0               70.00\n2299     1493   10.0               70.00\n2300     1493   11.0               70.00\n2301     1493   12.0               70.00\n2302     1497   12.0               70.00\n\n[2264 rows x 3 columns]",
            "text/html": "<div>\n<style scoped>\n    .dataframe tbody tr th:only-of-type {\n        vertical-align: middle;\n    }\n\n    .dataframe tbody tr th {\n        vertical-align: top;\n    }\n\n    .dataframe thead th {\n        text-align: right;\n    }\n</style>\n<table border=\"1\" class=\"dataframe\">\n  <thead>\n    <tr style=\"text-align: right;\">\n      <th></th>\n      <th>user_id</th>\n      <th>month</th>\n      <th>ingresos_mensuales</th>\n    </tr>\n  </thead>\n  <tbody>\n    <tr>\n      <th>0</th>\n      <td>1001</td>\n      <td>8.0</td>\n      <td>20.00</td>\n    </tr>\n    <tr>\n      <th>1</th>\n      <td>1001</td>\n      <td>9.0</td>\n      <td>20.00</td>\n    </tr>\n    <tr>\n      <th>2</th>\n      <td>1001</td>\n      <td>10.0</td>\n      <td>90.09</td>\n    </tr>\n    <tr>\n      <th>3</th>\n      <td>1001</td>\n      <td>11.0</td>\n      <td>60.00</td>\n    </tr>\n    <tr>\n      <th>4</th>\n      <td>1001</td>\n      <td>12.0</td>\n      <td>60.00</td>\n    </tr>\n    <tr>\n      <th>...</th>\n      <td>...</td>\n      <td>...</td>\n      <td>...</td>\n    </tr>\n    <tr>\n      <th>2298</th>\n      <td>1493</td>\n      <td>9.0</td>\n      <td>70.00</td>\n    </tr>\n    <tr>\n      <th>2299</th>\n      <td>1493</td>\n      <td>10.0</td>\n      <td>70.00</td>\n    </tr>\n    <tr>\n      <th>2300</th>\n      <td>1493</td>\n      <td>11.0</td>\n      <td>70.00</td>\n    </tr>\n    <tr>\n      <th>2301</th>\n      <td>1493</td>\n      <td>12.0</td>\n      <td>70.00</td>\n    </tr>\n    <tr>\n      <th>2302</th>\n      <td>1497</td>\n      <td>12.0</td>\n      <td>70.00</td>\n    </tr>\n  </tbody>\n</table>\n<p>2264 rows × 3 columns</p>\n</div>"
          },
          "metadata": {}
        }
      ],
      "execution_count": 93
    },
    {
      "cell_type": "code",
      "source": "#we confirm that there are no missing values with the new columns. \nmerged_data_completed.info() ",
      "metadata": {
        "scrolled": true,
        "trusted": true
      },
      "outputs": [
        {
          "name": "stdout",
          "output_type": "stream",
          "text": "<class 'pandas.core.frame.DataFrame'>\nIndex: 2264 entries, 0 to 2302\nData columns (total 26 columns):\n #   Column                 Non-Null Count  Dtype  \n---  ------                 --------------  -----  \n 0   user_id                2264 non-null   int64  \n 1   month                  2264 non-null   float64\n 2   num_llamadas           2264 non-null   float64\n 3   cant_minutos           2264 non-null   float64\n 4   num_mensajes           2264 non-null   float64\n 5   vol_trafico_internet   2264 non-null   float64\n 6   plan_name              2264 non-null   object \n 7   month_reg              2264 non-null   int32  \n 8   month_churn            121 non-null    float64\n 9   vigencia               2264 non-null   int64  \n 10  regiones               2264 non-null   object \n 11  messages_included      2264 non-null   int64  \n 12  mb_per_month_included  2264 non-null   float64\n 13  minutes_included       2264 non-null   float64\n 14  usd_monthly_pay        2264 non-null   float64\n 15  usd_per_gb             2264 non-null   float64\n 16  usd_per_message        2264 non-null   float64\n 17  usd_per_minute         2264 non-null   float64\n 18  gb_per_month_included  2264 non-null   float64\n 19  exceso_llamadas        2264 non-null   float64\n 20  exceso_SMS             2264 non-null   float64\n 21  exceso_datos_GB        2264 non-null   float64\n 22  costo_exceso_llamadas  2264 non-null   float64\n 23  costo_exceso_SMS       2264 non-null   float64\n 24  costo_exceso_datos     2264 non-null   int64  \n 25  ingresos_mensuales     2264 non-null   float64\ndtypes: float64(19), int32(1), int64(4), object(2)\nmemory usage: 499.6+ KB\n"
        }
      ],
      "execution_count": 94
    },
    {
      "cell_type": "markdown",
      "source": "We calculated the revenue earned from the use of each plan per month and also added to that revenue the value per use over the plan limit. The monthly revenue is the sum of each of the costs.",
      "metadata": {}
    },
    {
      "cell_type": "markdown",
      "source": "## 6. Studying users behaviour <a id='behaviour'></a>\n",
      "metadata": {}
    },
    {
      "cell_type": "markdown",
      "source": "Now we will proceed to use descriptive statistics to facilitate the analysis of calls, messages, and internet usage by each plan and month, in order to see which plan is more profitable.",
      "metadata": {}
    },
    {
      "cell_type": "markdown",
      "source": "### Calls",
      "metadata": {}
    },
    {
      "cell_type": "code",
      "source": "#Funtion for comparing bar charts\ndef comparar_graf_barras(data1, data2, plan1, plan2,descrip,descrip2):\n    plt.figure(figsize=(12, 5))\n    \n    # Histogram of the first Dataframe (data1) \n    plt.subplot(1, 2, 1)\n    plt.bar(data1.index, data1, label=plan1, color='blue', alpha=0.7)\n    plt.title(f'{descrip}')\n    plt.xlabel(f'{descrip2}')\n    plt.legend()\n\n    # Histogram of the second Dataframe (data2) \n    plt.subplot(1, 2, 2)\n    plt.bar(data2.index, data2, label=plan2, color='green', alpha=0.7)\n    plt.title(f'{descrip}')\n    plt.xlabel(f'{descrip2}')\n    plt.legend()\n\n    # Adjusting the space between subplots\n    plt.tight_layout()\n    plt.show()",
      "metadata": {
        "trusted": true
      },
      "outputs": [],
      "execution_count": 95
    },
    {
      "cell_type": "code",
      "source": "# Compare the average number of calls for each plan for each month. Draw a bar chart to visualise this.\n\n# Filter by each plan\nsurf_data = merged_data_completed[merged_data_completed['plan_name'] == 'surf']\nultimate_data = merged_data_completed[merged_data_completed['plan_name'] == 'ultimate']\n\n# Calculate the average number of calls per month for each plan\nsurf_avg_quantity = surf_data.groupby('month')['num_llamadas'].mean()\nultimate_avg_quantity = ultimate_data.groupby('month')['num_llamadas'].mean()\n",
      "metadata": {
        "trusted": true
      },
      "outputs": [],
      "execution_count": 96
    },
    {
      "cell_type": "code",
      "source": "# Calling the function to compare the average call duration per month between 'Surf' and 'Ultimate' \ncomparar_graf_barras(surf_avg_quantity, ultimate_avg_quantity, 'Surf', 'Ultimate','Average number of calls per month','Month')",
      "metadata": {
        "trusted": true
      },
      "outputs": [
        {
          "output_type": "display_data",
          "data": {
            "text/plain": "<Figure size 1200x500 with 2 Axes>",
            "image/png": "[encoded data removed]"
          },
          "metadata": {}
        }
      ],
      "execution_count": 98
    },
    {
      "cell_type": "markdown",
      "source": "We can observe that the number of calls is quite similar over the months for the Surf and Ultimate plans, but there is a notable difference in the month of February, where the Ultimate plan exceeds an average of 60 calls compared to the 40 of Surf.",
      "metadata": {}
    },
    {
      "cell_type": "code",
      "source": "# Compare the number of minutes that users of each plan require each month. Plot a histogram.\n\n# Calculate the average call duration per month for each plan.\nsurf_avg_duration = surf_data.groupby('month')['cant_minutos'].mean()\nultimate_avg_duration = ultimate_data.groupby('month')['cant_minutos'].mean()\n",
      "metadata": {
        "trusted": true
      },
      "outputs": [],
      "execution_count": 101
    },
    {
      "cell_type": "code",
      "source": "comparar_graf_barras(surf_avg_duration, ultimate_avg_duration, 'Surf', 'Ultimate','Average minutes of calls per month','Month')",
      "metadata": {
        "trusted": true
      },
      "outputs": [
        {
          "output_type": "display_data",
          "data": {
            "text/plain": "<Figure size 1200x500 with 2 Axes>",
            "image/png": "[encoded data removed]"
          },
          "metadata": {}
        }
      ],
      "execution_count": 102
    },
    {
      "cell_type": "markdown",
      "source": "We can observe that the minutes used in calls per month have a quite similar relationship with respect to the previous graph, where in February a clear difference can be seen for the Ultimate plan, with over 400 minutes, and in Surf it only reaches 300 minutes.",
      "metadata": {}
    },
    {
      "cell_type": "markdown",
      "source": "We proceed to calculate the mean and variance to see if the plans show different behaviours for their calls.",
      "metadata": {}
    },
    {
      "cell_type": "code",
      "source": "# Calculate the mean and variance of the monthly call duration. \nsurf_avg_duration = surf_data.groupby('month')['cant_minutos'].mean()\nultimate_avg_duration = ultimate_data.groupby('month')['cant_minutos'].mean()\n\nsurf_var_duration = surf_data.groupby('month')['cant_minutos'].var()\nultimate_var_duration = ultimate_data.groupby('month')['cant_minutos'].var()",
      "metadata": {
        "trusted": true
      },
      "outputs": [],
      "execution_count": 103
    },
    {
      "cell_type": "code",
      "source": "surf_avg_duration # average duration per month of the Surf plan",
      "metadata": {
        "scrolled": true,
        "trusted": true
      },
      "outputs": [
        {
          "execution_count": 104,
          "output_type": "execute_result",
          "data": {
            "text/plain": "month\n1.0     203.000000\n2.0     297.000000\n3.0     330.000000\n4.0     351.540000\n5.0     410.909091\n6.0     435.793814\n7.0     453.586777\n8.0     418.185185\n9.0     421.346734\n10.0    438.124464\n11.0    434.079710\n12.0    485.697368\nName: cant_minutos, dtype: float64"
          },
          "metadata": {}
        }
      ],
      "execution_count": 104
    },
    {
      "cell_type": "code",
      "source": "ultimate_avg_duration # average duration per month of the Ultimate plan",
      "metadata": {
        "trusted": true
      },
      "outputs": [
        {
          "execution_count": 105,
          "output_type": "execute_result",
          "data": {
            "text/plain": "month\n1.0     193.500000\n2.0     465.428571\n3.0     304.250000\n4.0     336.857143\n5.0     406.241379\n6.0     389.510638\n7.0     427.067797\n8.0     417.485714\n9.0     440.367816\n10.0    455.514286\n11.0    451.290323\n12.0    462.602740\nName: cant_minutos, dtype: float64"
          },
          "metadata": {}
        }
      ],
      "execution_count": 105
    },
    {
      "cell_type": "code",
      "source": "surf_var_duration #Variance of call duration per month for the Surf plan",
      "metadata": {
        "scrolled": true
      },
      "outputs": [
        {
          "data": {
            "text/plain": [
              "month\n",
              "1.0     15842.000000\n",
              "2.0     52226.500000\n",
              "3.0     35809.363636\n",
              "4.0     50866.743265\n",
              "5.0     55457.399522\n",
              "6.0     43634.748711\n",
              "7.0     59306.261157\n",
              "8.0     51157.543133\n",
              "9.0     42787.742805\n",
              "10.0    48719.833580\n",
              "11.0    48543.346350\n",
              "12.0    59190.297551\n",
              "Name: cant_minutos, dtype: float64"
            ]
          },
          "execution_count": 111,
          "metadata": {},
          "output_type": "execute_result"
        }
      ],
      "execution_count": 111
    },
    {
      "cell_type": "code",
      "source": "ultimate_var_duration #Variance of call duration per month for the Ultimate plan",
      "metadata": {
        "scrolled": true,
        "trusted": true
      },
      "outputs": [
        {
          "execution_count": 110,
          "output_type": "execute_result",
          "data": {
            "text/plain": "month\n1.0     16572.333333\n2.0     45455.952381\n3.0     61984.931818\n4.0     34888.928571\n5.0     43841.046798\n6.0     36352.777058\n7.0     72563.374635\n8.0     53298.630228\n9.0     56024.142208\n10.0    52767.656044\n11.0    60048.028849\n12.0    59186.516958\nName: cant_minutos, dtype: float64"
          },
          "metadata": {}
        }
      ],
      "execution_count": 110
    },
    {
      "cell_type": "code",
      "source": "# Drawing a box plot to visualise the distribution of the monthly call duration.\ndef plot_boxplot(data1, data2, ylim=None, title=None):\n    plt.figure(figsize=(16, 5))\n    \n    # Creating the first boxplot chart\n    plt.subplot(1, 2, 1)\n    plt.boxplot(data1)\n    if ylim is not None:\n        plt.ylim(ylim)\n    if title is not None:\n        plt.title(title[0])\n\n    # Creating the second boxplot chart\n    plt.subplot(1, 2, 2)\n    plt.boxplot(data2)\n    if ylim is not None:\n        plt.ylim(ylim)\n    if title is not None:\n        plt.title(title[1])\n        \n    # We adjust the layout of the subplots\n    plt.tight_layout()\n    plt.show()",
      "metadata": {
        "trusted": true
      },
      "outputs": [],
      "execution_count": 113
    },
    {
      "cell_type": "code",
      "source": "plot_boxplot(surf_data['cant_minutos'],ultimate_data['cant_minutos'], title=['Surf', 'Ultimate'])",
      "metadata": {
        "trusted": true
      },
      "outputs": [
        {
          "output_type": "display_data",
          "data": {
            "text/plain": "<Figure size 1600x500 with 2 Axes>",
            "image/png": "[encoded data removed]"
          },
          "metadata": {}
        }
      ],
      "execution_count": 114
    },
    {
      "cell_type": "markdown",
      "source": "We can conclude that for calls, there is a very slight preference for the use of the Ultimate plan regarding the number of minutes used, although with a slightly higher variance, that is, a greater dispersion of its data.",
      "metadata": {}
    },
    {
      "cell_type": "markdown",
      "source": "### Messages",
      "metadata": {}
    },
    {
      "cell_type": "code",
      "source": "# Compare the number of messages that users on each plan tend to send each month\n\n# Calculate the average number of calls per month for each plan\nsurf_avg_quantity_SMS = surf_data.groupby('month')['num_mensajes'].mean()\nultimate_avg_quantity_SMS = ultimate_data.groupby('month')['num_mensajes'].mean()",
      "metadata": {
        "trusted": true
      },
      "outputs": [],
      "execution_count": 115
    },
    {
      "cell_type": "code",
      "source": "# Compare the amount of messages consumed by users per plan\ncomparar_graf_barras(surf_avg_quantity_SMS, ultimate_avg_quantity_SMS, 'Surf', 'Ultimate','Number of messages per month','Month')",
      "metadata": {
        "trusted": true
      },
      "outputs": [
        {
          "output_type": "display_data",
          "data": {
            "text/plain": "<Figure size 1200x500 with 2 Axes>",
            "image/png": "[encoded data removed]"
          },
          "metadata": {}
        }
      ],
      "execution_count": 116
    },
    {
      "cell_type": "markdown",
      "source": "With the previous graphs, we can observe that there is a more upward trend in SMS sending from the month of May onwards for the Ultimate plan, around over 40 messages. In the previous months, there is a more standard distribution but below 30 messages for the Surf plan.",
      "metadata": {}
    },
    {
      "cell_type": "code",
      "source": "# Calculate the mean and variance of the monthly message count\nsurf_avg_quantity_SMS = surf_data.groupby('month')['num_mensajes'].mean()\nultimate_avg_quantity_SMS = ultimate_data.groupby('month')['num_mensajes'].mean()\n\nsurf_var_quantity_SMS = surf_data.groupby('month')['num_mensajes'].var()\nultimate_var_quantity_SMS = ultimate_data.groupby('month')['num_mensajes'].var()",
      "metadata": {
        "trusted": true
      },
      "outputs": [],
      "execution_count": 117
    },
    {
      "cell_type": "code",
      "source": "surf_avg_quantity_SMS",
      "metadata": {
        "scrolled": true,
        "trusted": true
      },
      "outputs": [
        {
          "execution_count": 118,
          "output_type": "execute_result",
          "data": {
            "text/plain": "month\n1.0     27.500000\n2.0     27.111111\n3.0     25.608696\n4.0     26.920000\n5.0     33.285714\n6.0     33.711340\n7.0     35.462810\n8.0     36.753086\n9.0     38.190955\n10.0    40.540773\n11.0    39.481884\n12.0    45.414474\nName: num_mensajes, dtype: float64"
          },
          "metadata": {}
        }
      ],
      "execution_count": 118
    },
    {
      "cell_type": "code",
      "source": "ultimate_avg_quantity_SMS",
      "metadata": {
        "trusted": true
      },
      "outputs": [
        {
          "execution_count": 119,
          "output_type": "execute_result",
          "data": {
            "text/plain": "month\n1.0     24.000000\n2.0     26.428571\n3.0     34.416667\n4.0     30.142857\n5.0     41.482759\n6.0     35.851064\n7.0     39.745763\n8.0     45.614286\n9.0     44.091954\n10.0    44.933333\n11.0    45.516129\n12.0    51.150685\nName: num_mensajes, dtype: float64"
          },
          "metadata": {}
        }
      ],
      "execution_count": 119
    },
    {
      "cell_type": "code",
      "source": "surf_var_quantity_SMS",
      "metadata": {
        "trusted": true
      },
      "outputs": [
        {
          "execution_count": 120,
          "output_type": "execute_result",
          "data": {
            "text/plain": "month\n1.0       84.500000\n2.0      299.111111\n3.0      272.249012\n4.0      401.340408\n5.0      628.312030\n6.0      702.332474\n7.0      681.700689\n8.0      776.485239\n9.0      720.044160\n10.0    1007.266649\n11.0     820.556034\n12.0    1139.603222\nName: num_mensajes, dtype: float64"
          },
          "metadata": {}
        }
      ],
      "execution_count": 120
    },
    {
      "cell_type": "code",
      "source": "ultimate_var_quantity_SMS",
      "metadata": {
        "scrolled": true,
        "trusted": true
      },
      "outputs": [
        {
          "execution_count": 121,
          "output_type": "execute_result",
          "data": {
            "text/plain": "month\n1.0      251.333333\n2.0      398.952381\n3.0      334.992424\n4.0      389.528571\n5.0      912.758621\n6.0      650.129510\n7.0      689.123904\n8.0      857.718634\n9.0      740.782144\n10.0     952.928205\n11.0     919.455022\n12.0    1213.866793\nName: num_mensajes, dtype: float64"
          },
          "metadata": {}
        }
      ],
      "execution_count": 121
    },
    {
      "cell_type": "code",
      "source": "# Box plots for the number of messages of SURF and ULTIMATE\nplot_boxplot(surf_data['num_mensajes'],ultimate_data['num_mensajes'], title=['Surf', 'Ultimate'])",
      "metadata": {
        "scrolled": true,
        "trusted": true
      },
      "outputs": [
        {
          "output_type": "display_data",
          "data": {
            "text/plain": "<Figure size 1600x500 with 2 Axes>",
            "image/png": "[encoded data removed]"
          },
          "metadata": {}
        }
      ],
      "execution_count": 122
    },
    {
      "cell_type": "markdown",
      "source": "Podemos concluir que para el envío de SMS, hay una leve preferencia por el uso del plan Ultimate respecto a la cantidad de SMS utilizados, aunque con una dispersión de los datos más alta y asimétrica que el del plan Surf.",
      "metadata": {}
    },
    {
      "cell_type": "markdown",
      "source": "### Internet",
      "metadata": {}
    },
    {
      "cell_type": "code",
      "source": "#amount of data volume used per month for each plan\nsurf_avg_vol_mb = surf_data.groupby('month')['vol_trafico_internet'].mean()\nultimate_avg_vol_mb = ultimate_data.groupby('month')['vol_trafico_internet'].mean()",
      "metadata": {
        "trusted": true
      },
      "outputs": [],
      "execution_count": 123
    },
    {
      "cell_type": "code",
      "source": "# Compare the average data volume (MB) consumed by users per plan\ncomparar_graf_barras(surf_avg_vol_mb, ultimate_avg_vol_mb, 'Surf', 'Ultimate','Mobile data volume in MB per month','Month')\n",
      "metadata": {
        "trusted": true
      },
      "outputs": [
        {
          "output_type": "display_data",
          "data": {
            "text/plain": "<Figure size 1200x500 with 2 Axes>",
            "image/png": "[encoded data removed]"
          },
          "metadata": {}
        }
      ],
      "execution_count": 125
    },
    {
      "cell_type": "markdown",
      "source": "We can conclude from the graph that there is a clear preference for the Ultimate plan since the amount of MB exceeds 15,000 during almost all months, except in January. Unlike the Surf plan, where it exceeds 15,000 MB only starting in June.",
      "metadata": {}
    },
    {
      "cell_type": "code",
      "source": "# Calcula la media y la varianza de la cantidad mensual de mensajes\nsurf_var_vol_mb = surf_data.groupby('month')['num_mensajes'].var()\nultimate_var_vol_mb = ultimate_data.groupby('month')['num_mensajes'].var()",
      "metadata": {},
      "outputs": [],
      "execution_count": 117
    },
    {
      "cell_type": "code",
      "source": "surf_avg_vol_mb",
      "metadata": {
        "scrolled": true
      },
      "outputs": [
        {
          "data": {
            "text/plain": [
              "month\n",
              "1.0      4874.860000\n",
              "2.0     12178.843333\n",
              "3.0     13345.440000\n",
              "4.0     12321.711200\n",
              "5.0     14155.516104\n",
              "6.0     15649.475773\n",
              "7.0     16923.066777\n",
              "8.0     17107.838951\n",
              "9.0     16683.367487\n",
              "10.0    17536.582146\n",
              "11.0    16497.499457\n",
              "12.0    18236.919342\n",
              "Name: vol_trafico_internet, dtype: float64"
            ]
          },
          "execution_count": 118,
          "metadata": {},
          "output_type": "execute_result"
        }
      ],
      "execution_count": 118
    },
    {
      "cell_type": "code",
      "source": "ultimate_avg_vol_mb",
      "metadata": {},
      "outputs": [
        {
          "data": {
            "text/plain": [
              "month\n",
              "1.0      6918.092500\n",
              "2.0     17128.808571\n",
              "3.0     18321.518333\n",
              "4.0     16121.654762\n",
              "5.0     16624.482414\n",
              "6.0     15337.921064\n",
              "7.0     16344.744407\n",
              "8.0     17809.540714\n",
              "9.0     17146.068966\n",
              "10.0    17779.173429\n",
              "11.0    17129.104435\n",
              "12.0    18305.598288\n",
              "Name: vol_trafico_internet, dtype: float64"
            ]
          },
          "execution_count": 119,
          "metadata": {},
          "output_type": "execute_result"
        }
      ],
      "execution_count": 119
    },
    {
      "cell_type": "code",
      "source": "surf_var_vol_mb ",
      "metadata": {},
      "outputs": [
        {
          "data": {
            "text/plain": [
              "month\n",
              "1.0       84.500000\n",
              "2.0      299.111111\n",
              "3.0      272.249012\n",
              "4.0      401.340408\n",
              "5.0      628.312030\n",
              "6.0      702.332474\n",
              "7.0      681.700689\n",
              "8.0      776.485239\n",
              "9.0      720.044160\n",
              "10.0    1007.266649\n",
              "11.0     820.556034\n",
              "12.0    1139.603222\n",
              "Name: num_mensajes, dtype: float64"
            ]
          },
          "execution_count": 120,
          "metadata": {},
          "output_type": "execute_result"
        }
      ],
      "execution_count": 120
    },
    {
      "cell_type": "code",
      "source": "ultimate_var_vol_mb",
      "metadata": {
        "scrolled": true
      },
      "outputs": [
        {
          "data": {
            "text/plain": [
              "month\n",
              "1.0      251.333333\n",
              "2.0      398.952381\n",
              "3.0      334.992424\n",
              "4.0      389.528571\n",
              "5.0      912.758621\n",
              "6.0      650.129510\n",
              "7.0      689.123904\n",
              "8.0      857.718634\n",
              "9.0      740.782144\n",
              "10.0     952.928205\n",
              "11.0     919.455022\n",
              "12.0    1213.866793\n",
              "Name: num_mensajes, dtype: float64"
            ]
          },
          "execution_count": 121,
          "metadata": {},
          "output_type": "execute_result"
        }
      ],
      "execution_count": 121
    },
    {
      "cell_type": "code",
      "source": "# Graficos de cajas para el volumen de datos (MB) usados de SURF y ULTIMATE\nplot_boxplot(surf_data['vol_trafico_internet'],ultimate_data['vol_trafico_internet'], title=['Surf', 'Ultimate'])",
      "metadata": {
        "scrolled": true
      },
      "outputs": [
        {
          "data": {
            "image/png": "[encoded data removed]",
            "text/plain": [
              "<Figure size 1152x360 with 2 Axes>"
            ]
          },
          "metadata": {
            "needs_background": "light"
          },
          "output_type": "display_data"
        }
      ],
      "execution_count": 122
    },
    {
      "cell_type": "markdown",
      "source": "Podemos corroborar por medio de la media que hay una preferencia clara por el uso de internet en el plan Ultimate, pero este a su vez tiene una dispersión de sus datos un poco más alta que en el plan Surf. Cabe señalar que el plan Surf tiene más datos atípicos en la muestra.",
      "metadata": {}
    },
    {
      "cell_type": "markdown",
      "source": "## Business Income",
      "metadata": {}
    },
    {
      "cell_type": "code",
      "source": "# Monthly income per month per use of each plan\nsurf_avg_income = surf_data.groupby('month')['ingresos_mensuales'].mean()\nultimate_avg_income = ultimate_data.groupby('month')['ingresos_mensuales'].mean()",
      "metadata": {
        "trusted": true
      },
      "outputs": [],
      "execution_count": 126
    },
    {
      "cell_type": "code",
      "source": "# Graph of average monthly revenues per user per plan\ncomparar_graf_barras(surf_avg_income, ultimate_avg_income, 'Surf', 'Ultimate','Average monthly income (USD) per month','Month')",
      "metadata": {
        "trusted": true
      },
      "outputs": [
        {
          "output_type": "display_data",
          "data": {
            "text/plain": "<Figure size 1200x500 with 2 Axes>",
            "image/png": "[encoded data removed]"
          },
          "metadata": {}
        }
      ],
      "execution_count": 127
    },
    {
      "cell_type": "markdown",
      "source": "We can observe through these graphs that the Ultimate plan has higher monthly revenues than the Surf plan throughout the year 2018, although it should be noted that the extra charge in Ultimate is minimal compared to the Surf plan (remember that the plan costs 70 and 20 USD respectively). In the Surf chart, it can be seen that there was an excess in service usage for all months except January.",
      "metadata": {}
    },
    {
      "cell_type": "code",
      "source": "# Calculate the mean and variance of the monthly message count\nsurf_var_income = surf_data.groupby('month')['ingresos_mensuales'].var()\nultimate_var_income = ultimate_data.groupby('month')['ingresos_mensuales'].var()",
      "metadata": {
        "trusted": true
      },
      "outputs": [],
      "execution_count": 128
    },
    {
      "cell_type": "code",
      "source": "surf_avg_income",
      "metadata": {
        "trusted": true
      },
      "outputs": [
        {
          "execution_count": 129,
          "output_type": "execute_result",
          "data": {
            "text/plain": "month\n1.0     20.000000\n2.0     34.396667\n3.0     45.941304\n4.0     41.110600\n5.0     47.887922\n6.0     49.688660\n7.0     62.839339\n8.0     64.301543\n9.0     57.912915\n10.0    65.828412\n11.0    58.352210\n12.0    70.494868\nName: ingresos_mensuales, dtype: float64"
          },
          "metadata": {}
        }
      ],
      "execution_count": 129
    },
    {
      "cell_type": "code",
      "source": "ultimate_avg_income",
      "metadata": {
        "trusted": true
      },
      "outputs": [
        {
          "execution_count": 130,
          "output_type": "execute_result",
          "data": {
            "text/plain": "month\n1.0     70.000000\n2.0     70.000000\n3.0     74.666667\n4.0     73.000000\n5.0     70.724138\n6.0     71.638298\n7.0     71.898305\n8.0     72.900000\n9.0     72.011494\n10.0    72.333333\n11.0    71.750000\n12.0    73.404110\nName: ingresos_mensuales, dtype: float64"
          },
          "metadata": {}
        }
      ],
      "execution_count": 130
    },
    {
      "cell_type": "code",
      "source": "surf_var_income",
      "metadata": {
        "trusted": true
      },
      "outputs": [
        {
          "execution_count": 131,
          "output_type": "execute_result",
          "data": {
            "text/plain": "month\n1.0        0.000000\n2.0      428.276100\n3.0     1512.023512\n4.0     1190.051789\n5.0     1958.209501\n6.0     1974.528651\n7.0     2933.679511\n8.0     3563.341094\n9.0     2206.632684\n10.0    3204.825867\n11.0    2500.082747\n12.0    4616.140144\nName: ingresos_mensuales, dtype: float64"
          },
          "metadata": {}
        }
      ],
      "execution_count": 131
    },
    {
      "cell_type": "code",
      "source": "ultimate_var_income",
      "metadata": {
        "scrolled": true,
        "trusted": true
      },
      "outputs": [
        {
          "execution_count": 132,
          "output_type": "execute_result",
          "data": {
            "text/plain": "month\n1.0       0.000000\n2.0       0.000000\n3.0     145.515152\n4.0     120.400000\n5.0      15.206897\n6.0      75.018501\n7.0     104.472238\n8.0     156.931884\n9.0      75.104518\n10.0    171.185897\n11.0     96.904472\n12.0    219.814880\nName: ingresos_mensuales, dtype: float64"
          },
          "metadata": {}
        }
      ],
      "execution_count": 132
    },
    {
      "cell_type": "code",
      "source": "# Monthly revenue charts by usage of SURF and ULTIMATE\nplot_boxplot(surf_data['ingresos_mensuales'],ultimate_data['ingresos_mensuales'], title=['Surf', 'Ultimate'],ylim=(0,600))",
      "metadata": {
        "trusted": true
      },
      "outputs": [
        {
          "output_type": "display_data",
          "data": {
            "text/plain": "<Figure size 1600x500 with 2 Axes>",
            "image/png": "[encoded data removed]"
          },
          "metadata": {}
        }
      ],
      "execution_count": 133
    },
    {
      "cell_type": "code",
      "source": "#Given the boxplot obtained in Ultimate, we check if it is correct.\nultimate_data['ingresos_mensuales'].describe() ",
      "metadata": {
        "scrolled": true,
        "trusted": true
      },
      "outputs": [
        {
          "execution_count": 134,
          "output_type": "execute_result",
          "data": {
            "text/plain": "count    711.000000\nmean      72.343179\nstd       11.464106\nmin       70.000000\n25%       70.000000\n50%       70.000000\n75%       70.000000\nmax      182.000000\nName: ingresos_mensuales, dtype: float64"
          },
          "metadata": {}
        }
      ],
      "execution_count": 134
    },
    {
      "cell_type": "markdown",
      "source": "With the boxplot, it becomes clearer that for the Ultimate plan, the data dispersion is much lower than for the Surf plan, meaning the company can collect more extra charges for the Surf plan than for the Ultimate plan, even though the Ultimate plan still generates the highest average income.",
      "metadata": {}
    },
    {
      "cell_type": "markdown",
      "source": " ",
      "metadata": {}
    },
    {
      "cell_type": "markdown",
      "source": "## 7. Testing statistical hypotheses <a id='hypotheses'></a>",
      "metadata": {}
    },
    {
      "cell_type": "code",
      "source": "# We check if the income has an approximately normal distribution.\ncomparar_graf_barras(surf_data['ingresos_mensuales'], ultimate_data['ingresos_mensuales'], 'Surf', 'Ultimate','Monthly average income (USD)','index')\n",
      "metadata": {
        "trusted": true
      },
      "outputs": [
        {
          "output_type": "display_data",
          "data": {
            "text/plain": "<Figure size 1200x500 with 2 Axes>",
            "image/png": "[encoded data removed]"
          },
          "metadata": {}
        }
      ],
      "execution_count": 136
    },
    {
      "cell_type": "markdown",
      "source": "We can observe that they tend to follow a normal distribution; in any case, the sample data is >30 (large sample), so the t-test, which is the one we will use, is less sensitive to deviations from normality.",
      "metadata": {}
    },
    {
      "cell_type": "markdown",
      "source": "To test whether the average income of Surf and Ultimate users is different, we can use a hypothesis test. In this case, we can use a t-test for two independent samples, since we are comparing the means of two different groups.\n\nFirst, we establish our hypotheses:\n\n- Null hypothesis (H0): The average revenue of Surf plan users is equal to the average revenue of Ultimate plan users.\n- Alternative hypothesis (H1): The average income of Surf plan users is different from the average income of Ultimate plan users.",
      "metadata": {}
    },
    {
      "cell_type": "code",
      "source": "# Test the hypotheses\n\n# We use the two-sample t-test\nresults = st.ttest_ind(surf_data['ingresos_mensuales'], ultimate_data['ingresos_mensuales'])\n\nalpha = 0.05\n\nprint(results.pvalue)\n\nif results.pvalue < alpha: # compare the obtained p-values with the level of statistical significance:\n    print(\"We reject the Null Hypothesis\")\nelse:\n    print(\"We do not reject the Null Hypothesis\")",
      "metadata": {
        "scrolled": true,
        "trusted": true
      },
      "outputs": [
        {
          "name": "stdout",
          "output_type": "stream",
          "text": "3.488851795150822e-08\nWe reject the Null Hypothesis\n"
        }
      ],
      "execution_count": 142
    },
    {
      "cell_type": "markdown",
      "source": "**CONCLUSION:**\n\nSince the p-value is less than the alpha value of significance (0.05), the result is to reject the null hypothesis, i.e. we can statistically conclude that the average revenue of Surf users is different from that of Ultimate.",
      "metadata": {}
    },
    {
      "cell_type": "code",
      "source": "# Filter by Region (NY-NJ and other regions)\nNY_NJ_data = merged_data_completed[merged_data_completed['regiones'] == 'New York-Newark-Jersey City, NY-NJ-PA MSA']\notras_regiones_data = merged_data_completed[merged_data_completed['regiones'] == 'otras regiones']",
      "metadata": {
        "trusted": true
      },
      "outputs": [],
      "execution_count": 139
    },
    {
      "cell_type": "code",
      "source": "# We check whether income by city has an approximate normal distribution.\ncomparar_graf_barras(NY_NJ_data['ingresos_mensuales'], otras_regiones_data['ingresos_mensuales'], 'NY-NJ', 'Otras regiones','Ingresos mensuales por región (usd)','index')",
      "metadata": {
        "trusted": true,
        "scrolled": true
      },
      "outputs": [
        {
          "output_type": "display_data",
          "data": {
            "text/plain": "<Figure size 1200x500 with 2 Axes>",
            "image/png": "[encoded data removed]"
          },
          "metadata": {}
        }
      ],
      "execution_count": 140
    },
    {
      "cell_type": "code",
      "source": "# Boxplot charts\nplt.figure(figsize=(10, 5))\nplt.boxplot([NY_NJ_data['ingresos_mensuales'],\n              otras_regiones_data['ingresos_mensuales']],\n             labels=['NY-NJ', 'Otras regiones'])\nplt.title('Boxplots of Monthly Income by Region')\nplt.ylabel('Monthly Income (usd)')\nplt.grid(True, linestyle='--', alpha=0.7)\nplt.show()",
      "metadata": {
        "trusted": true
      },
      "outputs": [
        {
          "output_type": "display_data",
          "data": {
            "text/plain": "<Figure size 1000x500 with 1 Axes>",
            "image/png": "[encoded data removed]"
          },
          "metadata": {}
        }
      ],
      "execution_count": 141
    },
    {
      "cell_type": "markdown",
      "source": "We can observe that they tend to follow a normal distribution given the symmetry in the median as seen in the boxplot graphs. Nevertheless, the sample data is >30 (large sample), so the t-test, which we will use, is less sensitive to deviations from normality.",
      "metadata": {}
    },
    {
      "cell_type": "markdown",
      "source": "To test whether the average income of the cities New York and New Jersey is different compared to the other cities, we can use a hypothesis test. In this case, we can use a t-test for two independent samples, since we are comparing the means of two different groups.\n\nFirst, we set up our hypotheses:\n\n- Null hypothesis (H0): The average income of users in NYC-NJ is equal to the average income of users in the other regions.\n- Alternative hypothesis (H1): The average income of users in NYC-NJ is different from the average income of users in the other regions.",
      "metadata": {}
    },
    {
      "cell_type": "code",
      "source": "# Testing the hypoteses\n\n# Using the t-test of 2 samples\nresultado = st.ttest_ind(NY_NJ_data['ingresos_mensuales'], otras_regiones_data['ingresos_mensuales'])\n\nalpha = 0.05\n\nprint(resultado.pvalue)\n\nif results.pvalue < alpha: # compare the obtained p-values with the level of statistical significance:\n    print(\"We reject the Null Hypothesis\")\nelse:\n    print(\"We do not reject the Null Hypothesis\")",
      "metadata": {
        "trusted": true
      },
      "outputs": [
        {
          "name": "stdout",
          "output_type": "stream",
          "text": "0.04305307606933257\nWe reject the Null Hypothesis\n"
        }
      ],
      "execution_count": 145
    },
    {
      "cell_type": "markdown",
      "source": "**CONCLUSION:**\n\nSince the p-value is less than the alpha value of significance (0.05), the result is to reject the null hypothesis, i.e. we can statistically conclude that the average income of users in the cities of New York and New Jersey are different from the rest of the other cities.",
      "metadata": {}
    },
    {
      "cell_type": "markdown",
      "source": "## Final Conclusions  <a id='end'></a>\n\nAs a general conclusion we can highlight the following points in the order in which they were addressed:\n\n- Step 1: We checked the databases for completeness.\n- Step 2: We analysed if there were anomalies in each of the variables in order to correct them (either due to problems of text homologation, atypical data or data that did not make sense to the nature of the variable). We also verified that there were no duplicates. This was done for each of the tables\n- Step 3: We checked for missing values for each variable and analysed whether there was any explanation for the absence of some values in each of these variables.\n- Step 4: No missing values were identified in each of the tables, except in one, where this was supplemented by the creation of another ‘Boolean’ column.\n- Step 5: The data types of some variables such as ‘datetime’ or ‘timedelta’ format were corrected.\n- Step 6: New columns were created to facilitate the analysis of the project.\n- Step 7: Once each table was validated, we proceeded to concatenate each of them through the key: user ID and month. With this we obtained a single table with information on calls, messages, MG volume used, users, plans used.\n- Step 8: We supplemented the missing values generated by the unification of these tables by using the mean/median of each of the variables themselves since the percentage of missing values was very low.\n- Step 9: We supplemented that table with the calculation of extra costs for over-usage of the plan for sending messages, use of minutes for calls and MB used. The monthly revenue was calculated which includes the value of the monthly plan.\n- Step 10: We proceeded to analyse the behaviour of users in terms of calls, messages and internet used per month and per type of plan, by means of bar graphs, mean and variance. The same was done for monthly revenue.\n- Step 11: Two statistical tests were conducted for 2 types of samples to statistically confirm the following: \n    - The average revenues of users in the cities of New York and New Jersey are different from the rest of the other cities with a significance level assumption of 5%.\n    - Average revenues are different for both plans with a 5% significance level assumption.\n    \nNote: This is under the assumption that they have a trend normal distribution and samples larger than 30 data.\n\nIt can finally be concluded that the Ultimate plan generates higher revenues for the company than the Surf plan, although users exceed the limit of services provided by Surf, generating significant profits from extra charges, and there is also a clear preference for internet use among Ultimate users over Surf.",
      "metadata": {}
    },
    {
      "cell_type": "markdown",
      "source": " ",
      "metadata": {}
    }
  ]
}